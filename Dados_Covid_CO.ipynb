{
  "nbformat": 4,
  "nbformat_minor": 0,
  "metadata": {
    "colab": {
      "name": "Dados_Covid_CO.ipynb",
      "provenance": [],
      "collapsed_sections": [],
      "authorship_tag": "ABX9TyP388VRO7uPf51GMyTQJAzf",
      "include_colab_link": true
    },
    "kernelspec": {
      "name": "python3",
      "display_name": "Python 3"
    },
    "language_info": {
      "name": "python"
    }
  },
  "cells": [
    {
      "cell_type": "markdown",
      "metadata": {
        "id": "view-in-github",
        "colab_type": "text"
      },
      "source": [
        "<a href=\"https://colab.research.google.com/github/IBeliveInMagic/Covid_Dados/blob/main/Dados_Covid_CO.ipynb\" target=\"_parent\"><img src=\"https://colab.research.google.com/assets/colab-badge.svg\" alt=\"Open In Colab\"/></a>"
      ]
    },
    {
      "cell_type": "markdown",
      "source": [
        "# **Imports**"
      ],
      "metadata": {
        "id": "G318MKhnR5R9"
      }
    },
    {
      "cell_type": "code",
      "source": [
        "import requests\n",
        "import csv\n",
        "\n",
        "import numpy as np\n",
        "import pandas as pd\n",
        "import matplotlib.pyplot as plt\n",
        "# Importação e configuração para o padrão Seaborn\n",
        "import seaborn as sns\n",
        "sns.set()"
      ],
      "metadata": {
        "id": "jJigGuCWDdGa"
      },
      "execution_count": 1,
      "outputs": []
    },
    {
      "cell_type": "markdown",
      "source": [
        "# **Carregar os dados**\n",
        "\n",
        "> Estado de Goiás\n",
        "\n"
      ],
      "metadata": {
        "id": "fp79S9mSiweU"
      }
    },
    {
      "cell_type": "code",
      "source": [
        "# Motando o drive para importar os datasets\n",
        "from google.colab import drive\n",
        "drive.mount('/content/drive')"
      ],
      "metadata": {
        "colab": {
          "base_uri": "https://localhost:8080/"
        },
        "id": "yN8QDy5ci9uZ",
        "outputId": "753e403b-172b-462f-8852-2b51644d0ad4"
      },
      "execution_count": 2,
      "outputs": [
        {
          "output_type": "stream",
          "name": "stdout",
          "text": [
            "Drive already mounted at /content/drive; to attempt to forcibly remount, call drive.mount(\"/content/drive\", force_remount=True).\n"
          ]
        }
      ]
    },
    {
      "cell_type": "code",
      "source": [
        "# Carregando os dados parte 1 estado de Goiás \n",
        "df_GO = pd.read_csv('/content/drive/My Drive/Colab Notebooks/PFC1/Dados_estados/Dados-Part1-GO.csv',sep=';',low_memory=False)\n",
        "df_MS = pd.read_csv('/content/drive/My Drive/Colab Notebooks/PFC1/Dados_estados/Dados-Part1-MS.csv',sep=';',low_memory=False) # Salvamos com esse nome antes\n",
        "df_MT = pd.read_csv('/content/drive/My Drive/Colab Notebooks/PFC1/Dados_estados/Dados-Part1=MT.csv',sep=';',low_memory=False) # Salvamos com esse nome antes\n",
        "df_DF = pd.read_csv('/content/drive/My Drive/Colab Notebooks/PFC1/Dados_estados/Dados-Part1-DF.csv',sep=';',low_memory=False) # Salvamos com esse nome antes"
      ],
      "metadata": {
        "id": "t8_UZSaujcJi"
      },
      "execution_count": 3,
      "outputs": []
    },
    {
      "cell_type": "code",
      "source": [
        "# Mostrar as 5 primeiras linhas do csv\n",
        "df_GO.head()"
      ],
      "metadata": {
        "id": "PLJhaQialjJQ"
      },
      "execution_count": null,
      "outputs": []
    },
    {
      "cell_type": "markdown",
      "source": [
        "# **Tratamento dos dados**\n",
        "\n",
        "> Estado de Goiás\n",
        "\n"
      ],
      "metadata": {
        "id": "viU_NScKSKDO"
      }
    },
    {
      "cell_type": "markdown",
      "source": [
        "IBGE - População estimada de Goiás\n",
        "\n",
        "7.206.589\n",
        "pessoas\n",
        "   [2021] : https://www.ibge.gov.br/cidades-e-estados/go.html"
      ],
      "metadata": {
        "id": "0LULpAqC-pI2"
      }
    },
    {
      "cell_type": "code",
      "source": [
        "# mostra os nomes das colunas\n",
        "df_GO.columns"
      ],
      "metadata": {
        "id": "GnmgqkusEJu8"
      },
      "execution_count": null,
      "outputs": []
    },
    {
      "cell_type": "code",
      "source": [
        "# Selecionar 3 colunas para a primeira análise\n",
        "df_GO1 = df_GO.iloc[: , [0,28,30]]\n",
        "df_GO1.head()"
      ],
      "metadata": {
        "id": "nqQgE5H7E67k"
      },
      "execution_count": null,
      "outputs": []
    },
    {
      "cell_type": "code",
      "source": [
        "data = df_GO1.groupby(['vacina_descricao_dose','vacina_nome']).count()\n",
        "data"
      ],
      "metadata": {
        "id": "_-ZRsZZeFEUV"
      },
      "execution_count": null,
      "outputs": []
    },
    {
      "cell_type": "code",
      "source": [
        "df_GO1.groupby(['vacina_descricao_dose']).count()['document_id']"
      ],
      "metadata": {
        "id": "4DmizUJeLpuq"
      },
      "execution_count": null,
      "outputs": []
    },
    {
      "cell_type": "code",
      "source": [
        "# Selecionar 7 colunas para a segunda análise\n",
        "df_GO2 = df_GO.iloc[: , [0,2,20,21,22,23,30]]\n",
        "df_GO2.head()"
      ],
      "metadata": {
        "id": "XrmRLvk-c7qU"
      },
      "execution_count": null,
      "outputs": []
    },
    {
      "cell_type": "code",
      "source": [
        "# Tipos de grupo de Atendimento que foram vacinados\n",
        "#df_GO2['vacina_grupoAtendimento_nome'].unique()"
      ],
      "metadata": {
        "id": "5nhVEJItfdKo"
      },
      "execution_count": null,
      "outputs": []
    },
    {
      "cell_type": "code",
      "source": [
        "# Selecionar 7 colunas para a segunda análise\n",
        "df_GO3 = df_GO.iloc[: , [27,28]]\n",
        "df_GO3.head()"
      ],
      "metadata": {
        "id": "mJe_bpTHToAn"
      },
      "execution_count": null,
      "outputs": []
    },
    {
      "cell_type": "code",
      "source": [
        "#converter a coluna vacina_dataAplicacao para o tipo datetime\n",
        "df_GO3[['vacina_dataAplicacao']] = df_GO3[['vacina_dataAplicacao']].apply(pd.to_datetime)"
      ],
      "metadata": {
        "id": "M-X_BXe7Vv4a"
      },
      "execution_count": null,
      "outputs": []
    },
    {
      "cell_type": "code",
      "source": [
        "#Confirmando se trocou de tipo\n",
        "df_GO3.dtypes"
      ],
      "metadata": {
        "id": "1bBuQyE8WewV"
      },
      "execution_count": null,
      "outputs": []
    },
    {
      "cell_type": "code",
      "source": [
        "df_GO3.head()"
      ],
      "metadata": {
        "id": "_ep0oCYdWkvf"
      },
      "execution_count": null,
      "outputs": []
    },
    {
      "cell_type": "code",
      "source": [
        "# Ordenando as vacinas pela data de aplicação , em ordem crescente de data\n",
        "df_GO3.sort_values(by=['vacina_dataAplicacao'])"
      ],
      "metadata": {
        "id": "BbP4Fq3kas38"
      },
      "execution_count": null,
      "outputs": []
    },
    {
      "cell_type": "markdown",
      "source": [
        "Nas próximas duas células filtramos por mês as vacinas aplicadas no ano de 2021 e salvamos em diferentes DataFrames"
      ],
      "metadata": {
        "id": "0dhTUT7G79Ut"
      }
    },
    {
      "cell_type": "code",
      "source": [
        "df_GO3_mes1 = df_GO3.query(\" vacina_dataAplicacao >= '2021-01-01' and vacina_dataAplicacao <= '2021-01-31'\")\n",
        "df_GO3_mes2 = df_GO3.query(\" vacina_dataAplicacao >= '2021-02-01' and vacina_dataAplicacao <= '2021-02-28'\")\n",
        "df_GO3_mes3 = df_GO3.query(\" vacina_dataAplicacao >= '2021-03-01' and vacina_dataAplicacao <= '2021-03-30'\")\n",
        "df_GO3_mes4 = df_GO3.query(\" vacina_dataAplicacao >= '2021-04-01' and vacina_dataAplicacao <= '2021-04-30'\")\n",
        "df_GO3_mes5 = df_GO3.query(\" vacina_dataAplicacao >= '2021-05-01' and vacina_dataAplicacao <= '2021-05-30'\")\n",
        "df_GO3_mes6 = df_GO3.query(\" vacina_dataAplicacao >= '2021-06-01' and vacina_dataAplicacao <= '2021-06-30'\")"
      ],
      "metadata": {
        "id": "8ny4tRL7Ytgx"
      },
      "execution_count": null,
      "outputs": []
    },
    {
      "cell_type": "code",
      "source": [
        "df_GO3_mes7 = df_GO3.query(\" vacina_dataAplicacao >= '2021-07-01' and vacina_dataAplicacao <= '2021-07-31'\")\n",
        "df_GO3_mes8 = df_GO3.query(\" vacina_dataAplicacao >= '2021-08-01' and vacina_dataAplicacao <= '2021-08-28'\")\n",
        "df_GO3_mes9 = df_GO3.query(\" vacina_dataAplicacao >= '2021-09-01' and vacina_dataAplicacao <= '2021-09-30'\")\n",
        "df_GO3_mes10 = df_GO3.query(\" vacina_dataAplicacao >= '2021-10-01' and vacina_dataAplicacao <= '2021-10-30'\")\n",
        "df_GO3_mes11 = df_GO3.query(\" vacina_dataAplicacao >= '2021-11-01' and vacina_dataAplicacao <= '2021-11-30'\")\n",
        "df_GO3_mes12 = df_GO3.query(\" vacina_dataAplicacao >= '2021-12-01' and vacina_dataAplicacao <= '2021-12-30'\")"
      ],
      "metadata": {
        "id": "GD2spOfq7CgY"
      },
      "execution_count": null,
      "outputs": []
    },
    {
      "cell_type": "markdown",
      "source": [
        "Agora agrupamos pela descrição de dose para analisarmos quantas pessoas receberam 1º Dose, 2º Dose , Dose Adicional e Reforço por mês do ano de 2021"
      ],
      "metadata": {
        "id": "7z3UPoKb8KQ2"
      }
    },
    {
      "cell_type": "code",
      "source": [
        "df_GO3_mes1.groupby('vacina_descricao_dose').count()"
      ],
      "metadata": {
        "id": "ilkScENM-lkW"
      },
      "execution_count": null,
      "outputs": []
    },
    {
      "cell_type": "code",
      "source": [
        "df_GO3_mes1count = df_GO3_mes1.groupby('vacina_descricao_dose').count()\n",
        "df_GO3_mes2count = df_GO3_mes2.groupby('vacina_descricao_dose').count()\n",
        "df_GO3_mes3count = df_GO3_mes3.groupby('vacina_descricao_dose').count()\n",
        "df_GO3_mes4count = df_GO3_mes4.groupby('vacina_descricao_dose').count()\n",
        "df_GO3_mes5count = df_GO3_mes5.groupby('vacina_descricao_dose').count()\n",
        "df_GO3_mes6count = df_GO3_mes6.groupby('vacina_descricao_dose').count()"
      ],
      "metadata": {
        "id": "NmzYgtaTjuYK"
      },
      "execution_count": null,
      "outputs": []
    },
    {
      "cell_type": "code",
      "source": [
        "df_GO3_mes7count = df_GO3_mes7.groupby('vacina_descricao_dose').count()\n",
        "df_GO3_mes8count = df_GO3_mes8.groupby('vacina_descricao_dose').count()\n",
        "df_GO3_mes9count = df_GO3_mes9.groupby('vacina_descricao_dose').count()\n",
        "df_GO3_mes10count = df_GO3_mes10.groupby('vacina_descricao_dose').count()\n",
        "df_GO3_mes11count = df_GO3_mes11.groupby('vacina_descricao_dose').count()\n",
        "df_GO3_mes12count = df_GO3_mes12.groupby('vacina_descricao_dose').count()"
      ],
      "metadata": {
        "id": "MmWhPUeQXG9r"
      },
      "execution_count": null,
      "outputs": []
    },
    {
      "cell_type": "code",
      "source": [
        "Vacina_Mes_1 = pd.merge(df_GO3_mes1count, df_GO3_mes2count, how = 'left', on = 'vacina_descricao_dose',suffixes=('_mes1', '_mes2'))\n",
        "Vacina_Mes_2 = pd.merge(Vacina_Mes_1, df_GO3_mes3count, how = 'left', on = 'vacina_descricao_dose',suffixes=('_mes2', '_mes3'))\n",
        "Vacina_Mes_3 = pd.merge(Vacina_Mes_2, df_GO3_mes4count, how = 'left', on = 'vacina_descricao_dose',suffixes=('_mes3', '_mes4'))\n",
        "Vacina_Mes_4 = pd.merge(Vacina_Mes_3, df_GO3_mes5count, how = 'left', on = 'vacina_descricao_dose',suffixes=('_mes4', '_mes5'))\n",
        "Vacina_Mes_5 = pd.merge(Vacina_Mes_4, df_GO3_mes6count, how = 'left', on = 'vacina_descricao_dose',suffixes=('_mes5', '_mes6'))\n",
        "Vacina_Mes_6 = pd.merge(Vacina_Mes_5, df_GO3_mes7count, how = 'left', on = 'vacina_descricao_dose',suffixes=('_mes6', '_mes7'))"
      ],
      "metadata": {
        "id": "fMeA7cvq-Km7"
      },
      "execution_count": null,
      "outputs": []
    },
    {
      "cell_type": "code",
      "source": [
        "Vacina_Mes_7 = pd.merge(Vacina_Mes_6, df_GO3_mes8count, how = 'left', on = 'vacina_descricao_dose',suffixes=('_mes7', '_mes8'))\n",
        "Vacina_Mes_8 = pd.merge(Vacina_Mes_7, df_GO3_mes9count, how = 'left', on = 'vacina_descricao_dose',suffixes=('_mes8', '_mes9'))\n",
        "Vacina_Mes_9 = pd.merge(Vacina_Mes_8, df_GO3_mes10count, how = 'left', on = 'vacina_descricao_dose',suffixes=('_mes9', '_mes10'))\n",
        "Vacina_Mes_10 = pd.merge(Vacina_Mes_9, df_GO3_mes11count, how = 'left', on = 'vacina_descricao_dose',suffixes=('_mes10', '_mes11'))\n",
        "Vacina_Mes_11 = pd.merge(Vacina_Mes_10, df_GO3_mes12count, how = 'left', on = 'vacina_descricao_dose',suffixes=('_mes11', '_mes12'))"
      ],
      "metadata": {
        "id": "PLtp5pS__OAK"
      },
      "execution_count": null,
      "outputs": []
    },
    {
      "cell_type": "code",
      "source": [
        "#Imprimir o DataFrame Vacina_Mes_11\n",
        "Vacina_Mes_11"
      ],
      "metadata": {
        "id": "D4xfgpTV_rQW"
      },
      "execution_count": null,
      "outputs": []
    },
    {
      "cell_type": "code",
      "source": [
        "# Transposta do DataFrame Vacina_Mes_11\n",
        "Vacina_Mes_11.T"
      ],
      "metadata": {
        "id": "5xBzRRXtPvUf"
      },
      "execution_count": null,
      "outputs": []
    },
    {
      "cell_type": "code",
      "source": [
        "#Susbtituir os valores NaN por 0\n",
        "df = Vacina_Mes_11.T.replace(np.nan,0)"
      ],
      "metadata": {
        "id": "zL8qRDd8QLtJ"
      },
      "execution_count": null,
      "outputs": []
    },
    {
      "cell_type": "code",
      "source": [
        "df"
      ],
      "metadata": {
        "id": "rj_B-aD9QfeI"
      },
      "execution_count": null,
      "outputs": []
    },
    {
      "cell_type": "code",
      "source": [
        "df.plot()\n",
        "plt.ylabel('Quantidade de vacinas por mês')\n",
        "plt.xlabel('Meses')"
      ],
      "metadata": {
        "id": "AryBttIBRuqU"
      },
      "execution_count": null,
      "outputs": []
    },
    {
      "cell_type": "markdown",
      "source": [
        "Substituir vacina_dataAplicacao_mes1 por VA1"
      ],
      "metadata": {
        "id": "aoICltdfQ-_I"
      }
    },
    {
      "cell_type": "code",
      "source": [
        "df.index = [\"VA1\",\"VA2\",\"VA3\",\"VA4\",\"VA5\",\"VA6\",\"VA7\",\"VA8\",\"VA9\",\"VA10\",\"VA11\",\"VA12\"]"
      ],
      "metadata": {
        "id": "tJMtM7RIT5_U"
      },
      "execution_count": null,
      "outputs": []
    },
    {
      "cell_type": "code",
      "source": [
        "df"
      ],
      "metadata": {
        "id": "BaXHPY_b--Eh"
      },
      "execution_count": null,
      "outputs": []
    },
    {
      "cell_type": "code",
      "source": [
        "df.plot()\n",
        "plt.ylabel('Quantidade de vacinas por mês')\n",
        "plt.xlabel('Meses')"
      ],
      "metadata": {
        "id": "jaC1FA_nA9Xh"
      },
      "execution_count": null,
      "outputs": []
    },
    {
      "cell_type": "code",
      "source": [
        "df_GO3.groupby('vacina_dataAplicacao').count().plot()"
      ],
      "metadata": {
        "id": "e9B5rvfBOsR6"
      },
      "execution_count": null,
      "outputs": []
    },
    {
      "cell_type": "markdown",
      "source": [
        "# **Gráficos**"
      ],
      "metadata": {
        "id": "sQRxh4C7c52t"
      }
    },
    {
      "cell_type": "markdown",
      "source": [
        "***> Gráficos com 1ª, 2ª e dose única do df_GO1.groupby***"
      ],
      "metadata": {
        "id": "x2QaUbxkZJXS"
      }
    },
    {
      "cell_type": "code",
      "source": [
        "# Colocando em um DataFrame as informaçoes da quantidade de pacientes por tipo de vacina\n",
        "dataN = {\n",
        "    'vacina_descricao_dose': ['1ª Dose','2ª Dose','Dose'],\n",
        "    'Id_qtd_dose': ['1926585', '1669493','54263']\n",
        "}\n",
        "  \n",
        "# criando outro DataFrame\n",
        "df1 = pd.DataFrame(dataN)"
      ],
      "metadata": {
        "id": "6Jvw8zShYb6P"
      },
      "execution_count": null,
      "outputs": []
    },
    {
      "cell_type": "code",
      "source": [
        "df1['Id_qtd_dose'] = df1['Id_qtd_dose'].astype(int)"
      ],
      "metadata": {
        "id": "Lx5a7O7zYrLD"
      },
      "execution_count": null,
      "outputs": []
    },
    {
      "cell_type": "code",
      "source": [
        "df1.plot(x='vacina_descricao_dose', y = 'Id_qtd_dose', kind = 'line')\n",
        "plt.show()"
      ],
      "metadata": {
        "id": "5MAxtbUqYydB"
      },
      "execution_count": null,
      "outputs": []
    },
    {
      "cell_type": "code",
      "source": [
        "df1.plot(x='vacina_descricao_dose', y = 'Id_qtd_dose', kind = 'bar')\n",
        "plt.show()"
      ],
      "metadata": {
        "id": "lwa3OS6VY5VK"
      },
      "execution_count": null,
      "outputs": []
    },
    {
      "cell_type": "markdown",
      "source": [
        "\n",
        "\n",
        "> ***Gráficos com todos os dados do df_GO1.groupby***\n",
        "\n"
      ],
      "metadata": {
        "id": "SB4VnfrAY7AJ"
      }
    },
    {
      "cell_type": "code",
      "source": [
        "# Colocando em um DataFrame as informaçoes da quantidade de pacientes por tipo de vacina\n",
        "dataN = {\n",
        "    'vacina_descricao_dose': ['1ª Dose','1ª Dose Revacinação','2ª Dose','2ª Reforço','3ª Dose','3ª Reforço','Dose','Dose Adicional','Dose Inicial','Reforço'],\n",
        "    'Id_qtd_dose': ['1926585', '1', '1669493', '144185','1','256','54263','58903','1','793509']\n",
        "}\n",
        "  \n",
        "# criando outro DataFrame\n",
        "df1 = pd.DataFrame(dataN)"
      ],
      "metadata": {
        "id": "YvDiT93-SbJE"
      },
      "execution_count": null,
      "outputs": []
    },
    {
      "cell_type": "code",
      "source": [
        "df1['Id_qtd_dose'] = df1['Id_qtd_dose'].astype(int)"
      ],
      "metadata": {
        "id": "6ium56mUW79B"
      },
      "execution_count": null,
      "outputs": []
    },
    {
      "cell_type": "code",
      "source": [
        "df1.plot(x='vacina_descricao_dose', y = 'Id_qtd_dose', kind = 'line')\n",
        "plt.show()"
      ],
      "metadata": {
        "id": "HM2xW8I0OMIi"
      },
      "execution_count": null,
      "outputs": []
    },
    {
      "cell_type": "code",
      "source": [
        "df1.plot(x='vacina_descricao_dose', y = 'Id_qtd_dose', kind = 'bar')\n",
        "plt.show()"
      ],
      "metadata": {
        "id": "Pf3YjFHiXc5h"
      },
      "execution_count": null,
      "outputs": []
    }
  ]
}