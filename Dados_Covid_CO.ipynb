{
  "nbformat": 4,
  "nbformat_minor": 0,
  "metadata": {
    "colab": {
      "name": "Dados_Covid_CO.ipynb",
      "provenance": []
    },
    "kernelspec": {
      "name": "python3",
      "display_name": "Python 3"
    },
    "language_info": {
      "name": "python"
    }
  },
  "cells": [
    {
      "cell_type": "markdown",
      "source": [
        "# **Imports**"
      ],
      "metadata": {
        "id": "G318MKhnR5R9"
      }
    },
    {
      "cell_type": "code",
      "source": [
        "import requests\n",
        "import csv\n",
        "\n",
        "import numpy as np\n",
        "import pandas as pd\n",
        "import matplotlib.pyplot as plt\n",
        "# Importação e configuração para o padrão Seaborn\n",
        "import seaborn as sns\n",
        "sns.set()"
      ],
      "metadata": {
        "id": "jJigGuCWDdGa"
      },
      "execution_count": 1,
      "outputs": []
    },
    {
      "cell_type": "markdown",
      "source": [
        "# **Carregar os dados**\n",
        "\n",
        "> Estado de Goiás\n",
        "\n"
      ],
      "metadata": {
        "id": "fp79S9mSiweU"
      }
    },
    {
      "cell_type": "code",
      "source": [
        "# Motando o drive para importar os datasets\n",
        "from google.colab import drive\n",
        "drive.mount('/content/drive')"
      ],
      "metadata": {
        "colab": {
          "base_uri": "https://localhost:8080/"
        },
        "id": "yN8QDy5ci9uZ",
        "outputId": "fc6ebfd2-ae47-4218-850f-d04252b8a711"
      },
      "execution_count": 2,
      "outputs": [
        {
          "output_type": "stream",
          "name": "stdout",
          "text": [
            "Mounted at /content/drive\n"
          ]
        }
      ]
    },
    {
      "cell_type": "code",
      "source": [
        "# Carregando os dados parte 1 estado de Goiás \n",
        "df_GO = pd.read_csv('/content/drive/My Drive/Colab Notebooks/PFC1/Dados_estados/Dados-Part1-GO.csv',sep=';',low_memory=False) # Salvamos com esse nome antes"
      ],
      "metadata": {
        "id": "t8_UZSaujcJi"
      },
      "execution_count": 3,
      "outputs": []
    },
    {
      "cell_type": "code",
      "source": [
        "# Mostrar as 5 primeiras linhas do csv\n",
        "df_GO.head()"
      ],
      "metadata": {
        "id": "PLJhaQialjJQ"
      },
      "execution_count": null,
      "outputs": []
    },
    {
      "cell_type": "markdown",
      "source": [
        "# **Tratamento dos dados**\n",
        "\n",
        "> Estado de Goiás\n",
        "\n"
      ],
      "metadata": {
        "id": "viU_NScKSKDO"
      }
    },
    {
      "cell_type": "markdown",
      "source": [
        "IBGE - População estimada de Goiás\n",
        "\n",
        "7.206.589\n",
        "pessoas\n",
        "   [2021] : https://www.ibge.gov.br/cidades-e-estados/go.html"
      ],
      "metadata": {
        "id": "0LULpAqC-pI2"
      }
    },
    {
      "cell_type": "code",
      "source": [
        "# mostra os nomes das colunas\n",
        "df_GO.columns"
      ],
      "metadata": {
        "id": "GnmgqkusEJu8",
        "colab": {
          "base_uri": "https://localhost:8080/"
        },
        "outputId": "bb275ce9-3f7f-4cc9-a480-3ef1d8ea892a"
      },
      "execution_count": 6,
      "outputs": [
        {
          "output_type": "execute_result",
          "data": {
            "text/plain": [
              "Index(['document_id', 'paciente_id', 'paciente_idade',\n",
              "       'paciente_dataNascimento', 'paciente_enumSexoBiologico',\n",
              "       'paciente_racaCor_codigo', 'paciente_racaCor_valor',\n",
              "       'paciente_endereco_coIbgeMunicipio', 'paciente_endereco_coPais',\n",
              "       'paciente_endereco_nmMunicipio', 'paciente_endereco_nmPais',\n",
              "       'paciente_endereco_uf', 'paciente_endereco_cep',\n",
              "       'paciente_nacionalidade_enumNacionalidade', 'estabelecimento_valor',\n",
              "       'estabelecimento_razaoSocial', 'estalecimento_noFantasia',\n",
              "       'estabelecimento_municipio_codigo', 'estabelecimento_municipio_nome',\n",
              "       'estabelecimento_uf', 'vacina_grupoAtendimento_codigo',\n",
              "       'vacina_grupoAtendimento_nome', 'vacina_categoria_codigo',\n",
              "       'vacina_categoria_nome', 'vacina_lote', 'vacina_fabricante_nome',\n",
              "       'vacina_fabricante_referencia', 'vacina_dataAplicacao',\n",
              "       'vacina_descricao_dose', 'vacina_codigo', 'vacina_nome',\n",
              "       'sistema_origem'],\n",
              "      dtype='object')"
            ]
          },
          "metadata": {},
          "execution_count": 6
        }
      ]
    },
    {
      "cell_type": "code",
      "source": [
        "# Selecionar 3 colunas para a primeira análise\n",
        "df_GO1 = df_GO.iloc[: , [0,28,30]]\n",
        "df_GO1.head()"
      ],
      "metadata": {
        "id": "nqQgE5H7E67k",
        "colab": {
          "base_uri": "https://localhost:8080/",
          "height": 206
        },
        "outputId": "1fbe826a-b634-4fa2-a461-b191e8b4395d"
      },
      "execution_count": 7,
      "outputs": [
        {
          "output_type": "execute_result",
          "data": {
            "text/plain": [
              "                                 document_id vacina_descricao_dose  \\\n",
              "0  1ab7f230-bff6-4e3b-972e-fc8e075c61c3-i0b0               2ª Dose   \n",
              "1  11812484-aafd-4025-941b-89980899edfd-i0b0               Reforço   \n",
              "2  1abef6b1-d0ca-469d-abdc-cb3a4b33fe6e-i0b0               Reforço   \n",
              "3  1186cfb4-f569-4960-881a-ff0045e4a7dc-i0b0               1ª Dose   \n",
              "4  1ac2e3b7-a6a7-4695-9ae2-e0e32ddb68d9-i0b0               Reforço   \n",
              "\n",
              "                   vacina_nome  \n",
              "0  COVID-19 PFIZER - COMIRNATY  \n",
              "1  COVID-19 PFIZER - COMIRNATY  \n",
              "2  COVID-19 PFIZER - COMIRNATY  \n",
              "3  COVID-19 PFIZER - COMIRNATY  \n",
              "4  COVID-19 PFIZER - COMIRNATY  "
            ],
            "text/html": [
              "\n",
              "  <div id=\"df-1ce9578e-7c5c-4dbb-98b4-68b43cfd1ebf\">\n",
              "    <div class=\"colab-df-container\">\n",
              "      <div>\n",
              "<style scoped>\n",
              "    .dataframe tbody tr th:only-of-type {\n",
              "        vertical-align: middle;\n",
              "    }\n",
              "\n",
              "    .dataframe tbody tr th {\n",
              "        vertical-align: top;\n",
              "    }\n",
              "\n",
              "    .dataframe thead th {\n",
              "        text-align: right;\n",
              "    }\n",
              "</style>\n",
              "<table border=\"1\" class=\"dataframe\">\n",
              "  <thead>\n",
              "    <tr style=\"text-align: right;\">\n",
              "      <th></th>\n",
              "      <th>document_id</th>\n",
              "      <th>vacina_descricao_dose</th>\n",
              "      <th>vacina_nome</th>\n",
              "    </tr>\n",
              "  </thead>\n",
              "  <tbody>\n",
              "    <tr>\n",
              "      <th>0</th>\n",
              "      <td>1ab7f230-bff6-4e3b-972e-fc8e075c61c3-i0b0</td>\n",
              "      <td>2ª Dose</td>\n",
              "      <td>COVID-19 PFIZER - COMIRNATY</td>\n",
              "    </tr>\n",
              "    <tr>\n",
              "      <th>1</th>\n",
              "      <td>11812484-aafd-4025-941b-89980899edfd-i0b0</td>\n",
              "      <td>Reforço</td>\n",
              "      <td>COVID-19 PFIZER - COMIRNATY</td>\n",
              "    </tr>\n",
              "    <tr>\n",
              "      <th>2</th>\n",
              "      <td>1abef6b1-d0ca-469d-abdc-cb3a4b33fe6e-i0b0</td>\n",
              "      <td>Reforço</td>\n",
              "      <td>COVID-19 PFIZER - COMIRNATY</td>\n",
              "    </tr>\n",
              "    <tr>\n",
              "      <th>3</th>\n",
              "      <td>1186cfb4-f569-4960-881a-ff0045e4a7dc-i0b0</td>\n",
              "      <td>1ª Dose</td>\n",
              "      <td>COVID-19 PFIZER - COMIRNATY</td>\n",
              "    </tr>\n",
              "    <tr>\n",
              "      <th>4</th>\n",
              "      <td>1ac2e3b7-a6a7-4695-9ae2-e0e32ddb68d9-i0b0</td>\n",
              "      <td>Reforço</td>\n",
              "      <td>COVID-19 PFIZER - COMIRNATY</td>\n",
              "    </tr>\n",
              "  </tbody>\n",
              "</table>\n",
              "</div>\n",
              "      <button class=\"colab-df-convert\" onclick=\"convertToInteractive('df-1ce9578e-7c5c-4dbb-98b4-68b43cfd1ebf')\"\n",
              "              title=\"Convert this dataframe to an interactive table.\"\n",
              "              style=\"display:none;\">\n",
              "        \n",
              "  <svg xmlns=\"http://www.w3.org/2000/svg\" height=\"24px\"viewBox=\"0 0 24 24\"\n",
              "       width=\"24px\">\n",
              "    <path d=\"M0 0h24v24H0V0z\" fill=\"none\"/>\n",
              "    <path d=\"M18.56 5.44l.94 2.06.94-2.06 2.06-.94-2.06-.94-.94-2.06-.94 2.06-2.06.94zm-11 1L8.5 8.5l.94-2.06 2.06-.94-2.06-.94L8.5 2.5l-.94 2.06-2.06.94zm10 10l.94 2.06.94-2.06 2.06-.94-2.06-.94-.94-2.06-.94 2.06-2.06.94z\"/><path d=\"M17.41 7.96l-1.37-1.37c-.4-.4-.92-.59-1.43-.59-.52 0-1.04.2-1.43.59L10.3 9.45l-7.72 7.72c-.78.78-.78 2.05 0 2.83L4 21.41c.39.39.9.59 1.41.59.51 0 1.02-.2 1.41-.59l7.78-7.78 2.81-2.81c.8-.78.8-2.07 0-2.86zM5.41 20L4 18.59l7.72-7.72 1.47 1.35L5.41 20z\"/>\n",
              "  </svg>\n",
              "      </button>\n",
              "      \n",
              "  <style>\n",
              "    .colab-df-container {\n",
              "      display:flex;\n",
              "      flex-wrap:wrap;\n",
              "      gap: 12px;\n",
              "    }\n",
              "\n",
              "    .colab-df-convert {\n",
              "      background-color: #E8F0FE;\n",
              "      border: none;\n",
              "      border-radius: 50%;\n",
              "      cursor: pointer;\n",
              "      display: none;\n",
              "      fill: #1967D2;\n",
              "      height: 32px;\n",
              "      padding: 0 0 0 0;\n",
              "      width: 32px;\n",
              "    }\n",
              "\n",
              "    .colab-df-convert:hover {\n",
              "      background-color: #E2EBFA;\n",
              "      box-shadow: 0px 1px 2px rgba(60, 64, 67, 0.3), 0px 1px 3px 1px rgba(60, 64, 67, 0.15);\n",
              "      fill: #174EA6;\n",
              "    }\n",
              "\n",
              "    [theme=dark] .colab-df-convert {\n",
              "      background-color: #3B4455;\n",
              "      fill: #D2E3FC;\n",
              "    }\n",
              "\n",
              "    [theme=dark] .colab-df-convert:hover {\n",
              "      background-color: #434B5C;\n",
              "      box-shadow: 0px 1px 3px 1px rgba(0, 0, 0, 0.15);\n",
              "      filter: drop-shadow(0px 1px 2px rgba(0, 0, 0, 0.3));\n",
              "      fill: #FFFFFF;\n",
              "    }\n",
              "  </style>\n",
              "\n",
              "      <script>\n",
              "        const buttonEl =\n",
              "          document.querySelector('#df-1ce9578e-7c5c-4dbb-98b4-68b43cfd1ebf button.colab-df-convert');\n",
              "        buttonEl.style.display =\n",
              "          google.colab.kernel.accessAllowed ? 'block' : 'none';\n",
              "\n",
              "        async function convertToInteractive(key) {\n",
              "          const element = document.querySelector('#df-1ce9578e-7c5c-4dbb-98b4-68b43cfd1ebf');\n",
              "          const dataTable =\n",
              "            await google.colab.kernel.invokeFunction('convertToInteractive',\n",
              "                                                     [key], {});\n",
              "          if (!dataTable) return;\n",
              "\n",
              "          const docLinkHtml = 'Like what you see? Visit the ' +\n",
              "            '<a target=\"_blank\" href=https://colab.research.google.com/notebooks/data_table.ipynb>data table notebook</a>'\n",
              "            + ' to learn more about interactive tables.';\n",
              "          element.innerHTML = '';\n",
              "          dataTable['output_type'] = 'display_data';\n",
              "          await google.colab.output.renderOutput(dataTable, element);\n",
              "          const docLink = document.createElement('div');\n",
              "          docLink.innerHTML = docLinkHtml;\n",
              "          element.appendChild(docLink);\n",
              "        }\n",
              "      </script>\n",
              "    </div>\n",
              "  </div>\n",
              "  "
            ]
          },
          "metadata": {},
          "execution_count": 7
        }
      ]
    },
    {
      "cell_type": "code",
      "source": [
        "data = df_GO1.groupby(['vacina_descricao_dose','vacina_nome']).count()\n",
        "data"
      ],
      "metadata": {
        "id": "_-ZRsZZeFEUV",
        "colab": {
          "base_uri": "https://localhost:8080/",
          "height": 1000
        },
        "outputId": "c5048cbb-54bd-4777-b288-1ca9536e8e25"
      },
      "execution_count": 9,
      "outputs": [
        {
          "output_type": "execute_result",
          "data": {
            "text/plain": [
              "                                                                 document_id\n",
              "vacina_descricao_dose vacina_nome                                           \n",
              "1ª Dose               COVID-19 ASTRAZENECA - ChAdOx1-S                 44936\n",
              "                      COVID-19 ASTRAZENECA/FIOCRUZ - COVISHIELD       608939\n",
              "                      COVID-19 PEDIÁTRICA - PFIZER COMIRNATY           72500\n",
              "                      COVID-19 PFIZER - COMIRNATY                     683643\n",
              "                      COVID-19 SINOVAC - CORONAVAC                      7897\n",
              "                      COVID-19 SINOVAC/BUTANTAN - CORONAVAC           508670\n",
              "1ª Dose Revacinação   COVID-19 SINOVAC/BUTANTAN - CORONAVAC                1\n",
              "2ª Dose               COVID-19 ASTRAZENECA - ChAdOx1-S                 59396\n",
              "                      COVID-19 ASTRAZENECA/FIOCRUZ - COVISHIELD       546235\n",
              "                      COVID-19 PEDIÁTRICA - PFIZER COMIRNATY           42770\n",
              "                      COVID-19 PFIZER - COMIRNATY                     577174\n",
              "                      COVID-19 SINOVAC - CORONAVAC                      7779\n",
              "                      COVID-19 SINOVAC/BUTANTAN - CORONAVAC           436139\n",
              "2º Reforço            COVID-19 ASTRAZENECA/FIOCRUZ - COVISHIELD        11935\n",
              "                      COVID-19 JANSSEN - Ad26.COV2.S                   55579\n",
              "                      COVID-19 PFIZER - COMIRNATY                      76291\n",
              "                      COVID-19 SINOVAC - CORONAVAC                       124\n",
              "                      COVID-19 SINOVAC/BUTANTAN - CORONAVAC              256\n",
              "3ª Dose               COVID-19 ASTRAZENECA/FIOCRUZ - COVISHIELD            1\n",
              "3º Reforço            COVID-19 ASTRAZENECA/FIOCRUZ - COVISHIELD           37\n",
              "                      COVID-19 JANSSEN - Ad26.COV2.S                     164\n",
              "                      COVID-19 PFIZER - COMIRNATY                         46\n",
              "                      COVID-19 SINOVAC - CORONAVAC                         4\n",
              "                      COVID-19 SINOVAC/BUTANTAN - CORONAVAC                5\n",
              "Dose                  COVID-19 JANSSEN - Ad26.COV2.S                   54262\n",
              "                      COVID-19 PEDIÁTRICA - PFIZER COMIRNATY               1\n",
              "Dose Adicional        COVID-19 ASTRAZENECA - ChAdOx1-S                     1\n",
              "                      COVID-19 ASTRAZENECA/FIOCRUZ - COVISHIELD         3875\n",
              "                      COVID-19 JANSSEN - Ad26.COV2.S                   12699\n",
              "                      COVID-19 PFIZER - COMIRNATY                      41696\n",
              "                      COVID-19 SINOVAC - CORONAVAC                       158\n",
              "                      COVID-19 SINOVAC/BUTANTAN - CORONAVAC              474\n",
              "Dose Inicial          COVID-19 PEDIÁTRICA - PFIZER COMIRNATY               1\n",
              "Reforço               COVID-19 ASTRAZENECA - ChAdOx1-S                     7\n",
              "                      COVID-19 ASTRAZENECA/FIOCRUZ - COVISHIELD        36802\n",
              "                      COVID-19 JANSSEN - Ad26.COV2.S                  100456\n",
              "                      COVID-19 PFIZER - COMIRNATY                     647054\n",
              "                      COVID-19 SINOVAC - CORONAVAC                      2868\n",
              "                      COVID-19 SINOVAC/BUTANTAN - CORONAVAC             6322"
            ],
            "text/html": [
              "\n",
              "  <div id=\"df-321d1ee8-0cc7-4570-9c9f-27979aa560d0\">\n",
              "    <div class=\"colab-df-container\">\n",
              "      <div>\n",
              "<style scoped>\n",
              "    .dataframe tbody tr th:only-of-type {\n",
              "        vertical-align: middle;\n",
              "    }\n",
              "\n",
              "    .dataframe tbody tr th {\n",
              "        vertical-align: top;\n",
              "    }\n",
              "\n",
              "    .dataframe thead th {\n",
              "        text-align: right;\n",
              "    }\n",
              "</style>\n",
              "<table border=\"1\" class=\"dataframe\">\n",
              "  <thead>\n",
              "    <tr style=\"text-align: right;\">\n",
              "      <th></th>\n",
              "      <th></th>\n",
              "      <th>document_id</th>\n",
              "    </tr>\n",
              "    <tr>\n",
              "      <th>vacina_descricao_dose</th>\n",
              "      <th>vacina_nome</th>\n",
              "      <th></th>\n",
              "    </tr>\n",
              "  </thead>\n",
              "  <tbody>\n",
              "    <tr>\n",
              "      <th rowspan=\"6\" valign=\"top\">1ª Dose</th>\n",
              "      <th>COVID-19 ASTRAZENECA - ChAdOx1-S</th>\n",
              "      <td>44936</td>\n",
              "    </tr>\n",
              "    <tr>\n",
              "      <th>COVID-19 ASTRAZENECA/FIOCRUZ - COVISHIELD</th>\n",
              "      <td>608939</td>\n",
              "    </tr>\n",
              "    <tr>\n",
              "      <th>COVID-19 PEDIÁTRICA - PFIZER COMIRNATY</th>\n",
              "      <td>72500</td>\n",
              "    </tr>\n",
              "    <tr>\n",
              "      <th>COVID-19 PFIZER - COMIRNATY</th>\n",
              "      <td>683643</td>\n",
              "    </tr>\n",
              "    <tr>\n",
              "      <th>COVID-19 SINOVAC - CORONAVAC</th>\n",
              "      <td>7897</td>\n",
              "    </tr>\n",
              "    <tr>\n",
              "      <th>COVID-19 SINOVAC/BUTANTAN - CORONAVAC</th>\n",
              "      <td>508670</td>\n",
              "    </tr>\n",
              "    <tr>\n",
              "      <th>1ª Dose Revacinação</th>\n",
              "      <th>COVID-19 SINOVAC/BUTANTAN - CORONAVAC</th>\n",
              "      <td>1</td>\n",
              "    </tr>\n",
              "    <tr>\n",
              "      <th rowspan=\"6\" valign=\"top\">2ª Dose</th>\n",
              "      <th>COVID-19 ASTRAZENECA - ChAdOx1-S</th>\n",
              "      <td>59396</td>\n",
              "    </tr>\n",
              "    <tr>\n",
              "      <th>COVID-19 ASTRAZENECA/FIOCRUZ - COVISHIELD</th>\n",
              "      <td>546235</td>\n",
              "    </tr>\n",
              "    <tr>\n",
              "      <th>COVID-19 PEDIÁTRICA - PFIZER COMIRNATY</th>\n",
              "      <td>42770</td>\n",
              "    </tr>\n",
              "    <tr>\n",
              "      <th>COVID-19 PFIZER - COMIRNATY</th>\n",
              "      <td>577174</td>\n",
              "    </tr>\n",
              "    <tr>\n",
              "      <th>COVID-19 SINOVAC - CORONAVAC</th>\n",
              "      <td>7779</td>\n",
              "    </tr>\n",
              "    <tr>\n",
              "      <th>COVID-19 SINOVAC/BUTANTAN - CORONAVAC</th>\n",
              "      <td>436139</td>\n",
              "    </tr>\n",
              "    <tr>\n",
              "      <th rowspan=\"5\" valign=\"top\">2º Reforço</th>\n",
              "      <th>COVID-19 ASTRAZENECA/FIOCRUZ - COVISHIELD</th>\n",
              "      <td>11935</td>\n",
              "    </tr>\n",
              "    <tr>\n",
              "      <th>COVID-19 JANSSEN - Ad26.COV2.S</th>\n",
              "      <td>55579</td>\n",
              "    </tr>\n",
              "    <tr>\n",
              "      <th>COVID-19 PFIZER - COMIRNATY</th>\n",
              "      <td>76291</td>\n",
              "    </tr>\n",
              "    <tr>\n",
              "      <th>COVID-19 SINOVAC - CORONAVAC</th>\n",
              "      <td>124</td>\n",
              "    </tr>\n",
              "    <tr>\n",
              "      <th>COVID-19 SINOVAC/BUTANTAN - CORONAVAC</th>\n",
              "      <td>256</td>\n",
              "    </tr>\n",
              "    <tr>\n",
              "      <th>3ª Dose</th>\n",
              "      <th>COVID-19 ASTRAZENECA/FIOCRUZ - COVISHIELD</th>\n",
              "      <td>1</td>\n",
              "    </tr>\n",
              "    <tr>\n",
              "      <th rowspan=\"5\" valign=\"top\">3º Reforço</th>\n",
              "      <th>COVID-19 ASTRAZENECA/FIOCRUZ - COVISHIELD</th>\n",
              "      <td>37</td>\n",
              "    </tr>\n",
              "    <tr>\n",
              "      <th>COVID-19 JANSSEN - Ad26.COV2.S</th>\n",
              "      <td>164</td>\n",
              "    </tr>\n",
              "    <tr>\n",
              "      <th>COVID-19 PFIZER - COMIRNATY</th>\n",
              "      <td>46</td>\n",
              "    </tr>\n",
              "    <tr>\n",
              "      <th>COVID-19 SINOVAC - CORONAVAC</th>\n",
              "      <td>4</td>\n",
              "    </tr>\n",
              "    <tr>\n",
              "      <th>COVID-19 SINOVAC/BUTANTAN - CORONAVAC</th>\n",
              "      <td>5</td>\n",
              "    </tr>\n",
              "    <tr>\n",
              "      <th rowspan=\"2\" valign=\"top\">Dose</th>\n",
              "      <th>COVID-19 JANSSEN - Ad26.COV2.S</th>\n",
              "      <td>54262</td>\n",
              "    </tr>\n",
              "    <tr>\n",
              "      <th>COVID-19 PEDIÁTRICA - PFIZER COMIRNATY</th>\n",
              "      <td>1</td>\n",
              "    </tr>\n",
              "    <tr>\n",
              "      <th rowspan=\"6\" valign=\"top\">Dose Adicional</th>\n",
              "      <th>COVID-19 ASTRAZENECA - ChAdOx1-S</th>\n",
              "      <td>1</td>\n",
              "    </tr>\n",
              "    <tr>\n",
              "      <th>COVID-19 ASTRAZENECA/FIOCRUZ - COVISHIELD</th>\n",
              "      <td>3875</td>\n",
              "    </tr>\n",
              "    <tr>\n",
              "      <th>COVID-19 JANSSEN - Ad26.COV2.S</th>\n",
              "      <td>12699</td>\n",
              "    </tr>\n",
              "    <tr>\n",
              "      <th>COVID-19 PFIZER - COMIRNATY</th>\n",
              "      <td>41696</td>\n",
              "    </tr>\n",
              "    <tr>\n",
              "      <th>COVID-19 SINOVAC - CORONAVAC</th>\n",
              "      <td>158</td>\n",
              "    </tr>\n",
              "    <tr>\n",
              "      <th>COVID-19 SINOVAC/BUTANTAN - CORONAVAC</th>\n",
              "      <td>474</td>\n",
              "    </tr>\n",
              "    <tr>\n",
              "      <th>Dose Inicial</th>\n",
              "      <th>COVID-19 PEDIÁTRICA - PFIZER COMIRNATY</th>\n",
              "      <td>1</td>\n",
              "    </tr>\n",
              "    <tr>\n",
              "      <th rowspan=\"6\" valign=\"top\">Reforço</th>\n",
              "      <th>COVID-19 ASTRAZENECA - ChAdOx1-S</th>\n",
              "      <td>7</td>\n",
              "    </tr>\n",
              "    <tr>\n",
              "      <th>COVID-19 ASTRAZENECA/FIOCRUZ - COVISHIELD</th>\n",
              "      <td>36802</td>\n",
              "    </tr>\n",
              "    <tr>\n",
              "      <th>COVID-19 JANSSEN - Ad26.COV2.S</th>\n",
              "      <td>100456</td>\n",
              "    </tr>\n",
              "    <tr>\n",
              "      <th>COVID-19 PFIZER - COMIRNATY</th>\n",
              "      <td>647054</td>\n",
              "    </tr>\n",
              "    <tr>\n",
              "      <th>COVID-19 SINOVAC - CORONAVAC</th>\n",
              "      <td>2868</td>\n",
              "    </tr>\n",
              "    <tr>\n",
              "      <th>COVID-19 SINOVAC/BUTANTAN - CORONAVAC</th>\n",
              "      <td>6322</td>\n",
              "    </tr>\n",
              "  </tbody>\n",
              "</table>\n",
              "</div>\n",
              "      <button class=\"colab-df-convert\" onclick=\"convertToInteractive('df-321d1ee8-0cc7-4570-9c9f-27979aa560d0')\"\n",
              "              title=\"Convert this dataframe to an interactive table.\"\n",
              "              style=\"display:none;\">\n",
              "        \n",
              "  <svg xmlns=\"http://www.w3.org/2000/svg\" height=\"24px\"viewBox=\"0 0 24 24\"\n",
              "       width=\"24px\">\n",
              "    <path d=\"M0 0h24v24H0V0z\" fill=\"none\"/>\n",
              "    <path d=\"M18.56 5.44l.94 2.06.94-2.06 2.06-.94-2.06-.94-.94-2.06-.94 2.06-2.06.94zm-11 1L8.5 8.5l.94-2.06 2.06-.94-2.06-.94L8.5 2.5l-.94 2.06-2.06.94zm10 10l.94 2.06.94-2.06 2.06-.94-2.06-.94-.94-2.06-.94 2.06-2.06.94z\"/><path d=\"M17.41 7.96l-1.37-1.37c-.4-.4-.92-.59-1.43-.59-.52 0-1.04.2-1.43.59L10.3 9.45l-7.72 7.72c-.78.78-.78 2.05 0 2.83L4 21.41c.39.39.9.59 1.41.59.51 0 1.02-.2 1.41-.59l7.78-7.78 2.81-2.81c.8-.78.8-2.07 0-2.86zM5.41 20L4 18.59l7.72-7.72 1.47 1.35L5.41 20z\"/>\n",
              "  </svg>\n",
              "      </button>\n",
              "      \n",
              "  <style>\n",
              "    .colab-df-container {\n",
              "      display:flex;\n",
              "      flex-wrap:wrap;\n",
              "      gap: 12px;\n",
              "    }\n",
              "\n",
              "    .colab-df-convert {\n",
              "      background-color: #E8F0FE;\n",
              "      border: none;\n",
              "      border-radius: 50%;\n",
              "      cursor: pointer;\n",
              "      display: none;\n",
              "      fill: #1967D2;\n",
              "      height: 32px;\n",
              "      padding: 0 0 0 0;\n",
              "      width: 32px;\n",
              "    }\n",
              "\n",
              "    .colab-df-convert:hover {\n",
              "      background-color: #E2EBFA;\n",
              "      box-shadow: 0px 1px 2px rgba(60, 64, 67, 0.3), 0px 1px 3px 1px rgba(60, 64, 67, 0.15);\n",
              "      fill: #174EA6;\n",
              "    }\n",
              "\n",
              "    [theme=dark] .colab-df-convert {\n",
              "      background-color: #3B4455;\n",
              "      fill: #D2E3FC;\n",
              "    }\n",
              "\n",
              "    [theme=dark] .colab-df-convert:hover {\n",
              "      background-color: #434B5C;\n",
              "      box-shadow: 0px 1px 3px 1px rgba(0, 0, 0, 0.15);\n",
              "      filter: drop-shadow(0px 1px 2px rgba(0, 0, 0, 0.3));\n",
              "      fill: #FFFFFF;\n",
              "    }\n",
              "  </style>\n",
              "\n",
              "      <script>\n",
              "        const buttonEl =\n",
              "          document.querySelector('#df-321d1ee8-0cc7-4570-9c9f-27979aa560d0 button.colab-df-convert');\n",
              "        buttonEl.style.display =\n",
              "          google.colab.kernel.accessAllowed ? 'block' : 'none';\n",
              "\n",
              "        async function convertToInteractive(key) {\n",
              "          const element = document.querySelector('#df-321d1ee8-0cc7-4570-9c9f-27979aa560d0');\n",
              "          const dataTable =\n",
              "            await google.colab.kernel.invokeFunction('convertToInteractive',\n",
              "                                                     [key], {});\n",
              "          if (!dataTable) return;\n",
              "\n",
              "          const docLinkHtml = 'Like what you see? Visit the ' +\n",
              "            '<a target=\"_blank\" href=https://colab.research.google.com/notebooks/data_table.ipynb>data table notebook</a>'\n",
              "            + ' to learn more about interactive tables.';\n",
              "          element.innerHTML = '';\n",
              "          dataTable['output_type'] = 'display_data';\n",
              "          await google.colab.output.renderOutput(dataTable, element);\n",
              "          const docLink = document.createElement('div');\n",
              "          docLink.innerHTML = docLinkHtml;\n",
              "          element.appendChild(docLink);\n",
              "        }\n",
              "      </script>\n",
              "    </div>\n",
              "  </div>\n",
              "  "
            ]
          },
          "metadata": {},
          "execution_count": 9
        }
      ]
    },
    {
      "cell_type": "code",
      "source": [
        "df_GO1.groupby(['vacina_descricao_dose']).count()['document_id']"
      ],
      "metadata": {
        "id": "4DmizUJeLpuq",
        "colab": {
          "base_uri": "https://localhost:8080/"
        },
        "outputId": "da3b09c1-0415-42a9-923e-888a9e9c21d0"
      },
      "execution_count": 21,
      "outputs": [
        {
          "output_type": "execute_result",
          "data": {
            "text/plain": [
              "vacina_descricao_dose\n",
              "1ª Dose                1926585\n",
              "1ª Dose Revacinação          1\n",
              "2ª Dose                1669493\n",
              "2º Reforço              144185\n",
              "3ª Dose                      1\n",
              "3º Reforço                 256\n",
              "Dose                     54263\n",
              "Dose Adicional           58903\n",
              "Dose Inicial                 1\n",
              "Reforço                 793509\n",
              "Name: document_id, dtype: int64"
            ]
          },
          "metadata": {},
          "execution_count": 21
        }
      ]
    },
    {
      "cell_type": "markdown",
      "source": [
        "***> Gráficos com 1ª, 2ª e dose única do df_GO1.goupby***"
      ],
      "metadata": {
        "id": "x2QaUbxkZJXS"
      }
    },
    {
      "cell_type": "code",
      "source": [
        "# Colocando em um DataFrame as informaçoes da quantidade de pacientes por tipo de vacina\n",
        "dataN = {\n",
        "    'vacina_descricao_dose': ['1ª Dose','2ª Dose','Dose'],\n",
        "    'Id_qtd_dose': ['1926585', '1669493','54263']\n",
        "}\n",
        "  \n",
        "# criando outro DataFrame\n",
        "df1 = pd.DataFrame(dataN)"
      ],
      "metadata": {
        "id": "6Jvw8zShYb6P"
      },
      "execution_count": 46,
      "outputs": []
    },
    {
      "cell_type": "code",
      "source": [
        "df1['Id_qtd_dose'] = df1['Id_qtd_dose'].astype(int)"
      ],
      "metadata": {
        "id": "Lx5a7O7zYrLD"
      },
      "execution_count": 47,
      "outputs": []
    },
    {
      "cell_type": "code",
      "source": [
        "df1.plot(x='vacina_descricao_dose', y = 'Id_qtd_dose', kind = 'line')\n",
        "plt.show()"
      ],
      "metadata": {
        "colab": {
          "base_uri": "https://localhost:8080/",
          "height": 296
        },
        "id": "5MAxtbUqYydB",
        "outputId": "01914177-594b-4539-899d-5bee1c004584"
      },
      "execution_count": 48,
      "outputs": [
        {
          "output_type": "display_data",
          "data": {
            "text/plain": [
              "<Figure size 432x288 with 1 Axes>"
            ],
            "image/png": "[encoded data removed]"
          },
          "metadata": {
            "needs_background": "light"
          }
        }
      ]
    },
    {
      "cell_type": "code",
      "source": [
        "df1.plot(x='vacina_descricao_dose', y = 'Id_qtd_dose', kind = 'bar')\n",
        "plt.show()"
      ],
      "metadata": {
        "colab": {
          "base_uri": "https://localhost:8080/",
          "height": 329
        },
        "id": "lwa3OS6VY5VK",
        "outputId": "95f9c253-9014-4007-e430-ee207a65a5d5"
      },
      "execution_count": 49,
      "outputs": [
        {
          "output_type": "display_data",
          "data": {
            "text/plain": [
              "<Figure size 432x288 with 1 Axes>"
            ],
            "image/png": "[encoded data removed]"
          },
          "metadata": {
            "needs_background": "light"
          }
        }
      ]
    },
    {
      "cell_type": "markdown",
      "source": [
        "\n",
        "\n",
        "> ***Gráficos com todos os dados do df_GO1.groupby***\n",
        "\n"
      ],
      "metadata": {
        "id": "SB4VnfrAY7AJ"
      }
    },
    {
      "cell_type": "code",
      "source": [
        "# Colocando em um DataFrame as informaçoes da quantidade de pacientes por tipo de vacina\n",
        "dataN = {\n",
        "    'vacina_descricao_dose': ['1ª Dose','1ª Dose Revacinação','2ª Dose','2ª Reforço','3ª Dose','3ª Reforço','Dose','Dose Adicional','Dose Inicial','Reforço'],\n",
        "    'Id_qtd_dose': ['1926585', '1', '1669493', '144185','1','256','54263','58903','1','793509']\n",
        "}\n",
        "  \n",
        "# criando outro DataFrame\n",
        "df1 = pd.DataFrame(dataN)"
      ],
      "metadata": {
        "id": "YvDiT93-SbJE"
      },
      "execution_count": 50,
      "outputs": []
    },
    {
      "cell_type": "code",
      "source": [
        "df1['Id_qtd_dose'] = df1['Id_qtd_dose'].astype(int)"
      ],
      "metadata": {
        "id": "6ium56mUW79B"
      },
      "execution_count": 51,
      "outputs": []
    },
    {
      "cell_type": "code",
      "source": [
        "df1.plot(x='vacina_descricao_dose', y = 'Id_qtd_dose', kind = 'line')\n",
        "plt.show()"
      ],
      "metadata": {
        "colab": {
          "base_uri": "https://localhost:8080/",
          "height": 296
        },
        "id": "HM2xW8I0OMIi",
        "outputId": "8f16d0ba-e911-4270-bf29-50b1a4d4b20a"
      },
      "execution_count": 52,
      "outputs": [
        {
          "output_type": "display_data",
          "data": {
            "text/plain": [
              "<Figure size 432x288 with 1 Axes>"
            ],
            "image/png": "[encoded data removed]"
          },
          "metadata": {
            "needs_background": "light"
          }
        }
      ]
    },
    {
      "cell_type": "code",
      "source": [
        "df1.plot(x='vacina_descricao_dose', y = 'Id_qtd_dose', kind = 'bar')\n",
        "plt.show()"
      ],
      "metadata": {
        "colab": {
          "base_uri": "https://localhost:8080/",
          "height": 403
        },
        "id": "Pf3YjFHiXc5h",
        "outputId": "9b359d3d-a1f2-4440-8bf6-6fb6da19ef19"
      },
      "execution_count": 53,
      "outputs": [
        {
          "output_type": "display_data",
          "data": {
            "text/plain": [
              "<Figure size 432x288 with 1 Axes>"
            ],
            "image/png": "[encoded data removed]"
          },
          "metadata": {
            "needs_background": "light"
          }
        }
      ]
    }
  ]
}