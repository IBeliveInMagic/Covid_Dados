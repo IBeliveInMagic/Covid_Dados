{
  "nbformat": 4,
  "nbformat_minor": 0,
  "metadata": {
    "colab": {
      "provenance": [],
      "include_colab_link": true
    },
    "kernelspec": {
      "name": "python3",
      "display_name": "Python 3"
    },
    "language_info": {
      "name": "python"
    }
  },
  "cells": [
    {
      "cell_type": "markdown",
      "metadata": {
        "id": "view-in-github",
        "colab_type": "text"
      },
      "source": [
        "<a href=\"https://colab.research.google.com/github/IBeliveInMagic/Covid_Dados/blob/main/Covid_19_Ocupation.ipynb\" target=\"_parent\"><img src=\"https://colab.research.google.com/assets/colab-badge.svg\" alt=\"Open In Colab\"/></a>"
      ]
    },
    {
      "cell_type": "code",
      "execution_count": 1,
      "metadata": {
        "colab": {
          "base_uri": "https://localhost:8080/"
        },
        "id": "Jx1MdDFUlkfu",
        "outputId": "a06a4b31-c0ff-483a-a0e9-25e3aa28f95d"
      },
      "outputs": [
        {
          "output_type": "stream",
          "name": "stdout",
          "text": [
            "--2023-01-04 00:23:13--  https://s3.sa-east-1.amazonaws.com/ckan.saude.gov.br/LEITOS/2022-06-16/esus-vepi.LeitoOcupacao_2020.csv\n",
            "Resolving s3.sa-east-1.amazonaws.com (s3.sa-east-1.amazonaws.com)... 52.95.165.30\n",
            "Connecting to s3.sa-east-1.amazonaws.com (s3.sa-east-1.amazonaws.com)|52.95.165.30|:443... connected.\n",
            "HTTP request sent, awaiting response... 200 OK\n",
            "Length: 124779568 (119M) [binary/octet-stream]\n",
            "Saving to: ‘esus-vepi.LeitoOcupacao_2020.csv’\n",
            "\n",
            "esus-vepi.LeitoOcup 100%[===================>] 119.00M  22.3MB/s    in 6.3s    \n",
            "\n",
            "2023-01-04 00:23:20 (19.0 MB/s) - ‘esus-vepi.LeitoOcupacao_2020.csv’ saved [124779568/124779568]\n",
            "\n",
            "--2023-01-04 00:23:20--  https://s3.sa-east-1.amazonaws.com/ckan.saude.gov.br/LEITOS/2022-06-16/esus-vepi.LeitoOcupacao_2021.csv\n",
            "Resolving s3.sa-east-1.amazonaws.com (s3.sa-east-1.amazonaws.com)... 52.95.165.18\n",
            "Connecting to s3.sa-east-1.amazonaws.com (s3.sa-east-1.amazonaws.com)|52.95.165.18|:443... connected.\n",
            "HTTP request sent, awaiting response... 200 OK\n",
            "Length: 166963859 (159M) [binary/octet-stream]\n",
            "Saving to: ‘esus-vepi.LeitoOcupacao_2021.csv’\n",
            "\n",
            "esus-vepi.LeitoOcup 100%[===================>] 159.23M  20.1MB/s    in 8.6s    \n",
            "\n",
            "2023-01-04 00:23:30 (18.5 MB/s) - ‘esus-vepi.LeitoOcupacao_2021.csv’ saved [166963859/166963859]\n",
            "\n",
            "--2023-01-04 00:23:30--  https://s3.sa-east-1.amazonaws.com/ckan.saude.gov.br/LEITOS/2022-06-16/esus-vepi.LeitoOcupacao_2022.csv\n",
            "Resolving s3.sa-east-1.amazonaws.com (s3.sa-east-1.amazonaws.com)... 52.95.163.6\n",
            "Connecting to s3.sa-east-1.amazonaws.com (s3.sa-east-1.amazonaws.com)|52.95.163.6|:443... connected.\n",
            "HTTP request sent, awaiting response... 200 OK\n",
            "Length: 45256733 (43M) [binary/octet-stream]\n",
            "Saving to: ‘esus-vepi.LeitoOcupacao_2022.csv’\n",
            "\n",
            "esus-vepi.LeitoOcup 100%[===================>]  43.16M  16.2MB/s    in 2.7s    \n",
            "\n",
            "2023-01-04 00:23:33 (16.2 MB/s) - ‘esus-vepi.LeitoOcupacao_2022.csv’ saved [45256733/45256733]\n",
            "\n"
          ]
        }
      ],
      "source": [
        "#Ocupation- 2020\n",
        "!wget https://s3.sa-east-1.amazonaws.com/ckan.saude.gov.br/LEITOS/2022-06-16/esus-vepi.LeitoOcupacao_2020.csv\n",
        "#Ocupation- 2021\n",
        "!wget https://s3.sa-east-1.amazonaws.com/ckan.saude.gov.br/LEITOS/2022-06-16/esus-vepi.LeitoOcupacao_2021.csv\n",
        "#Ocupation- 2022\n",
        "!wget https://s3.sa-east-1.amazonaws.com/ckan.saude.gov.br/LEITOS/2022-06-16/esus-vepi.LeitoOcupacao_2022.csv\n"
      ]
    },
    {
      "cell_type": "code",
      "source": [
        "import pandas as pd\n",
        "import numpy as np\n",
        "import datetime\n",
        "from matplotlib import pyplot as plt\n",
        "import seaborn as sns\n",
        "from datetime import datetime,timedelta"
      ],
      "metadata": {
        "id": "NADJC7PkqEra"
      },
      "execution_count": 2,
      "outputs": []
    },
    {
      "cell_type": "code",
      "source": [
        "data_2020 = pd.read_csv('esus-vepi.LeitoOcupacao_2020.csv', sep=',')\n",
        "data_2021 = pd.read_csv('esus-vepi.LeitoOcupacao_2021.csv', sep=',')\n",
        "data_2022 = pd.read_csv('esus-vepi.LeitoOcupacao_2022.csv', sep=',')"
      ],
      "metadata": {
        "colab": {
          "base_uri": "https://localhost:8080/"
        },
        "id": "WE5Rs8TvpzHo",
        "outputId": "d5c01c97-4505-4f8f-ad00-29a1071452c8"
      },
      "execution_count": 3,
      "outputs": [
        {
          "output_type": "stream",
          "name": "stderr",
          "text": [
            "/usr/local/lib/python3.8/dist-packages/IPython/core/interactiveshell.py:3326: DtypeWarning: Columns (3) have mixed types.Specify dtype option on import or set low_memory=False.\n",
            "  exec(code_obj, self.user_global_ns, self.user_ns)\n"
          ]
        }
      ]
    },
    {
      "cell_type": "code",
      "source": [
        "DF_Total = pd.concat([data_2020,data_2021,data_2022])"
      ],
      "metadata": {
        "id": "0-gzNlB99g8W"
      },
      "execution_count": 4,
      "outputs": []
    },
    {
      "cell_type": "code",
      "source": [
        "DF_Total.columns"
      ],
      "metadata": {
        "colab": {
          "base_uri": "https://localhost:8080/"
        },
        "id": "T0PSAvLF_FpV",
        "outputId": "31eec427-16ac-4f07-d192-fb003fc5e65a"
      },
      "execution_count": 5,
      "outputs": [
        {
          "output_type": "execute_result",
          "data": {
            "text/plain": [
              "Index(['Unnamed: 0', '_id', 'dataNotificacao', 'cnes', 'ocupacaoSuspeitoCli',\n",
              "       'ocupacaoSuspeitoUti', 'ocupacaoConfirmadoCli', 'ocupacaoConfirmadoUti',\n",
              "       'ocupacaoCovidUti', 'ocupacaoCovidCli', 'ocupacaoHospitalarUti',\n",
              "       'ocupacaoHospitalarCli', 'saidaSuspeitaObitos', 'saidaSuspeitaAltas',\n",
              "       'saidaConfirmadaObitos', 'saidaConfirmadaAltas', 'origem', '_p_usuario',\n",
              "       'estadoNotificacao', 'municipioNotificacao', 'estado', 'municipio',\n",
              "       'excluido', 'validado', '_created_at', '_updated_at'],\n",
              "      dtype='object')"
            ]
          },
          "metadata": {},
          "execution_count": 5
        }
      ]
    },
    {
      "cell_type": "code",
      "source": [
        "DF_Total = DF_Total.iloc[: , [2,7,14,18]]"
      ],
      "metadata": {
        "id": "EpB6WoRx_tg4"
      },
      "execution_count": 6,
      "outputs": []
    },
    {
      "cell_type": "code",
      "source": [
        "DF_Total_clear = DF_Total.dropna()"
      ],
      "metadata": {
        "id": "wH4PtUEGCOEL"
      },
      "execution_count": 7,
      "outputs": []
    },
    {
      "cell_type": "code",
      "source": [
        "DF_Total_clear"
      ],
      "metadata": {
        "colab": {
          "base_uri": "https://localhost:8080/",
          "height": 424
        },
        "id": "7EWikvOYKlKC",
        "outputId": "a048da30-c19c-4315-e070-6659b70b1cfe"
      },
      "execution_count": 8,
      "outputs": [
        {
          "output_type": "execute_result",
          "data": {
            "text/plain": [
              "                 dataNotificacao  ocupacaoConfirmadoUti  \\\n",
              "0       2020-04-14T03:00:00.000Z                    0.0   \n",
              "1       2020-04-15T03:00:00.000Z                    0.0   \n",
              "2       2020-04-15T14:57:16.255Z                    2.0   \n",
              "3       2020-03-24T03:00:00.000Z                    0.0   \n",
              "4       2020-04-01T03:00:00.000Z                    0.0   \n",
              "...                          ...                    ...   \n",
              "556986  2021-09-13T03:00:11.672Z                    1.0   \n",
              "557080  2021-09-13T03:00:19.827Z                    1.0   \n",
              "558967  2021-09-14T03:00:00.793Z                    0.0   \n",
              "559504  2021-09-14T03:00:29.182Z                    1.0   \n",
              "0       2022-01-17T03:00:00.000Z                    0.0   \n",
              "\n",
              "        saidaConfirmadaObitos  estadoNotificacao  \n",
              "0                         0.0     Santa Catarina  \n",
              "1                         0.0     Rio de Janeiro  \n",
              "2                         0.0     Rio de Janeiro  \n",
              "3                         0.0              Ceará  \n",
              "4                         0.0  Rio Grande do Sul  \n",
              "...                       ...                ...  \n",
              "556986                    0.0       Minas Gerais  \n",
              "557080                    1.0     Santa Catarina  \n",
              "558967                    0.0       Minas Gerais  \n",
              "559504                    0.0       Minas Gerais  \n",
              "0                         0.0     Santa Catarina  \n",
              "\n",
              "[1014953 rows x 4 columns]"
            ],
            "text/html": [
              "\n",
              "  <div id=\"df-149250ea-5645-4e79-8a38-b80e0c414ef4\">\n",
              "    <div class=\"colab-df-container\">\n",
              "      <div>\n",
              "<style scoped>\n",
              "    .dataframe tbody tr th:only-of-type {\n",
              "        vertical-align: middle;\n",
              "    }\n",
              "\n",
              "    .dataframe tbody tr th {\n",
              "        vertical-align: top;\n",
              "    }\n",
              "\n",
              "    .dataframe thead th {\n",
              "        text-align: right;\n",
              "    }\n",
              "</style>\n",
              "<table border=\"1\" class=\"dataframe\">\n",
              "  <thead>\n",
              "    <tr style=\"text-align: right;\">\n",
              "      <th></th>\n",
              "      <th>dataNotificacao</th>\n",
              "      <th>ocupacaoConfirmadoUti</th>\n",
              "      <th>saidaConfirmadaObitos</th>\n",
              "      <th>estadoNotificacao</th>\n",
              "    </tr>\n",
              "  </thead>\n",
              "  <tbody>\n",
              "    <tr>\n",
              "      <th>0</th>\n",
              "      <td>2020-04-14T03:00:00.000Z</td>\n",
              "      <td>0.0</td>\n",
              "      <td>0.0</td>\n",
              "      <td>Santa Catarina</td>\n",
              "    </tr>\n",
              "    <tr>\n",
              "      <th>1</th>\n",
              "      <td>2020-04-15T03:00:00.000Z</td>\n",
              "      <td>0.0</td>\n",
              "      <td>0.0</td>\n",
              "      <td>Rio de Janeiro</td>\n",
              "    </tr>\n",
              "    <tr>\n",
              "      <th>2</th>\n",
              "      <td>2020-04-15T14:57:16.255Z</td>\n",
              "      <td>2.0</td>\n",
              "      <td>0.0</td>\n",
              "      <td>Rio de Janeiro</td>\n",
              "    </tr>\n",
              "    <tr>\n",
              "      <th>3</th>\n",
              "      <td>2020-03-24T03:00:00.000Z</td>\n",
              "      <td>0.0</td>\n",
              "      <td>0.0</td>\n",
              "      <td>Ceará</td>\n",
              "    </tr>\n",
              "    <tr>\n",
              "      <th>4</th>\n",
              "      <td>2020-04-01T03:00:00.000Z</td>\n",
              "      <td>0.0</td>\n",
              "      <td>0.0</td>\n",
              "      <td>Rio Grande do Sul</td>\n",
              "    </tr>\n",
              "    <tr>\n",
              "      <th>...</th>\n",
              "      <td>...</td>\n",
              "      <td>...</td>\n",
              "      <td>...</td>\n",
              "      <td>...</td>\n",
              "    </tr>\n",
              "    <tr>\n",
              "      <th>556986</th>\n",
              "      <td>2021-09-13T03:00:11.672Z</td>\n",
              "      <td>1.0</td>\n",
              "      <td>0.0</td>\n",
              "      <td>Minas Gerais</td>\n",
              "    </tr>\n",
              "    <tr>\n",
              "      <th>557080</th>\n",
              "      <td>2021-09-13T03:00:19.827Z</td>\n",
              "      <td>1.0</td>\n",
              "      <td>1.0</td>\n",
              "      <td>Santa Catarina</td>\n",
              "    </tr>\n",
              "    <tr>\n",
              "      <th>558967</th>\n",
              "      <td>2021-09-14T03:00:00.793Z</td>\n",
              "      <td>0.0</td>\n",
              "      <td>0.0</td>\n",
              "      <td>Minas Gerais</td>\n",
              "    </tr>\n",
              "    <tr>\n",
              "      <th>559504</th>\n",
              "      <td>2021-09-14T03:00:29.182Z</td>\n",
              "      <td>1.0</td>\n",
              "      <td>0.0</td>\n",
              "      <td>Minas Gerais</td>\n",
              "    </tr>\n",
              "    <tr>\n",
              "      <th>0</th>\n",
              "      <td>2022-01-17T03:00:00.000Z</td>\n",
              "      <td>0.0</td>\n",
              "      <td>0.0</td>\n",
              "      <td>Santa Catarina</td>\n",
              "    </tr>\n",
              "  </tbody>\n",
              "</table>\n",
              "<p>1014953 rows × 4 columns</p>\n",
              "</div>\n",
              "      <button class=\"colab-df-convert\" onclick=\"convertToInteractive('df-149250ea-5645-4e79-8a38-b80e0c414ef4')\"\n",
              "              title=\"Convert this dataframe to an interactive table.\"\n",
              "              style=\"display:none;\">\n",
              "        \n",
              "  <svg xmlns=\"http://www.w3.org/2000/svg\" height=\"24px\"viewBox=\"0 0 24 24\"\n",
              "       width=\"24px\">\n",
              "    <path d=\"M0 0h24v24H0V0z\" fill=\"none\"/>\n",
              "    <path d=\"M18.56 5.44l.94 2.06.94-2.06 2.06-.94-2.06-.94-.94-2.06-.94 2.06-2.06.94zm-11 1L8.5 8.5l.94-2.06 2.06-.94-2.06-.94L8.5 2.5l-.94 2.06-2.06.94zm10 10l.94 2.06.94-2.06 2.06-.94-2.06-.94-.94-2.06-.94 2.06-2.06.94z\"/><path d=\"M17.41 7.96l-1.37-1.37c-.4-.4-.92-.59-1.43-.59-.52 0-1.04.2-1.43.59L10.3 9.45l-7.72 7.72c-.78.78-.78 2.05 0 2.83L4 21.41c.39.39.9.59 1.41.59.51 0 1.02-.2 1.41-.59l7.78-7.78 2.81-2.81c.8-.78.8-2.07 0-2.86zM5.41 20L4 18.59l7.72-7.72 1.47 1.35L5.41 20z\"/>\n",
              "  </svg>\n",
              "      </button>\n",
              "      \n",
              "  <style>\n",
              "    .colab-df-container {\n",
              "      display:flex;\n",
              "      flex-wrap:wrap;\n",
              "      gap: 12px;\n",
              "    }\n",
              "\n",
              "    .colab-df-convert {\n",
              "      background-color: #E8F0FE;\n",
              "      border: none;\n",
              "      border-radius: 50%;\n",
              "      cursor: pointer;\n",
              "      display: none;\n",
              "      fill: #1967D2;\n",
              "      height: 32px;\n",
              "      padding: 0 0 0 0;\n",
              "      width: 32px;\n",
              "    }\n",
              "\n",
              "    .colab-df-convert:hover {\n",
              "      background-color: #E2EBFA;\n",
              "      box-shadow: 0px 1px 2px rgba(60, 64, 67, 0.3), 0px 1px 3px 1px rgba(60, 64, 67, 0.15);\n",
              "      fill: #174EA6;\n",
              "    }\n",
              "\n",
              "    [theme=dark] .colab-df-convert {\n",
              "      background-color: #3B4455;\n",
              "      fill: #D2E3FC;\n",
              "    }\n",
              "\n",
              "    [theme=dark] .colab-df-convert:hover {\n",
              "      background-color: #434B5C;\n",
              "      box-shadow: 0px 1px 3px 1px rgba(0, 0, 0, 0.15);\n",
              "      filter: drop-shadow(0px 1px 2px rgba(0, 0, 0, 0.3));\n",
              "      fill: #FFFFFF;\n",
              "    }\n",
              "  </style>\n",
              "\n",
              "      <script>\n",
              "        const buttonEl =\n",
              "          document.querySelector('#df-149250ea-5645-4e79-8a38-b80e0c414ef4 button.colab-df-convert');\n",
              "        buttonEl.style.display =\n",
              "          google.colab.kernel.accessAllowed ? 'block' : 'none';\n",
              "\n",
              "        async function convertToInteractive(key) {\n",
              "          const element = document.querySelector('#df-149250ea-5645-4e79-8a38-b80e0c414ef4');\n",
              "          const dataTable =\n",
              "            await google.colab.kernel.invokeFunction('convertToInteractive',\n",
              "                                                     [key], {});\n",
              "          if (!dataTable) return;\n",
              "\n",
              "          const docLinkHtml = 'Like what you see? Visit the ' +\n",
              "            '<a target=\"_blank\" href=https://colab.research.google.com/notebooks/data_table.ipynb>data table notebook</a>'\n",
              "            + ' to learn more about interactive tables.';\n",
              "          element.innerHTML = '';\n",
              "          dataTable['output_type'] = 'display_data';\n",
              "          await google.colab.output.renderOutput(dataTable, element);\n",
              "          const docLink = document.createElement('div');\n",
              "          docLink.innerHTML = docLinkHtml;\n",
              "          element.appendChild(docLink);\n",
              "        }\n",
              "      </script>\n",
              "    </div>\n",
              "  </div>\n",
              "  "
            ]
          },
          "metadata": {},
          "execution_count": 8
        }
      ]
    },
    {
      "cell_type": "markdown",
      "source": [
        "# **Goiás**"
      ],
      "metadata": {
        "id": "X3q6FRAo0hir"
      }
    },
    {
      "cell_type": "code",
      "source": [
        "# filtrar linhas e ficar somente com os estados do Centro Oeste - Goiás\n",
        "df_mask=DF_Total_clear['estadoNotificacao']=='Goiás'\n",
        "df_GO = DF_Total_clear[df_mask]"
      ],
      "metadata": {
        "id": "5OisgTIbCZE2"
      },
      "execution_count": 9,
      "outputs": []
    },
    {
      "cell_type": "code",
      "source": [
        "df_GO"
      ],
      "metadata": {
        "colab": {
          "base_uri": "https://localhost:8080/",
          "height": 424
        },
        "id": "rh6cZIvnFFrs",
        "outputId": "1748187d-d3db-49ff-cd9e-baed9a86930e"
      },
      "execution_count": 10,
      "outputs": [
        {
          "output_type": "execute_result",
          "data": {
            "text/plain": [
              "                 dataNotificacao  ocupacaoConfirmadoUti  \\\n",
              "81      2020-04-15T03:00:00.000Z                    0.0   \n",
              "107     2020-04-15T19:37:37.168Z                    0.0   \n",
              "123     2020-04-15T20:04:33.257Z                    0.0   \n",
              "124     2020-04-15T19:58:37.058Z                    0.0   \n",
              "187     2020-04-15T03:00:00.000Z                    0.0   \n",
              "...                          ...                    ...   \n",
              "553401  2021-09-11T03:00:23.540Z                    0.0   \n",
              "554435  2021-09-12T03:00:44.393Z                    0.0   \n",
              "554492  2021-09-12T03:00:31.319Z                    0.0   \n",
              "554694  2021-09-12T03:00:03.541Z                    0.0   \n",
              "554793  2021-09-12T03:00:45.766Z                    0.0   \n",
              "\n",
              "        saidaConfirmadaObitos estadoNotificacao  \n",
              "81                        0.0             Goiás  \n",
              "107                       0.0             Goiás  \n",
              "123                       0.0             Goiás  \n",
              "124                       0.0             Goiás  \n",
              "187                       0.0             Goiás  \n",
              "...                       ...               ...  \n",
              "553401                    0.0             Goiás  \n",
              "554435                    0.0             Goiás  \n",
              "554492                    0.0             Goiás  \n",
              "554694                    0.0             Goiás  \n",
              "554793                    0.0             Goiás  \n",
              "\n",
              "[78703 rows x 4 columns]"
            ],
            "text/html": [
              "\n",
              "  <div id=\"df-6b707e35-e332-4b7f-b43f-2618754ce613\">\n",
              "    <div class=\"colab-df-container\">\n",
              "      <div>\n",
              "<style scoped>\n",
              "    .dataframe tbody tr th:only-of-type {\n",
              "        vertical-align: middle;\n",
              "    }\n",
              "\n",
              "    .dataframe tbody tr th {\n",
              "        vertical-align: top;\n",
              "    }\n",
              "\n",
              "    .dataframe thead th {\n",
              "        text-align: right;\n",
              "    }\n",
              "</style>\n",
              "<table border=\"1\" class=\"dataframe\">\n",
              "  <thead>\n",
              "    <tr style=\"text-align: right;\">\n",
              "      <th></th>\n",
              "      <th>dataNotificacao</th>\n",
              "      <th>ocupacaoConfirmadoUti</th>\n",
              "      <th>saidaConfirmadaObitos</th>\n",
              "      <th>estadoNotificacao</th>\n",
              "    </tr>\n",
              "  </thead>\n",
              "  <tbody>\n",
              "    <tr>\n",
              "      <th>81</th>\n",
              "      <td>2020-04-15T03:00:00.000Z</td>\n",
              "      <td>0.0</td>\n",
              "      <td>0.0</td>\n",
              "      <td>Goiás</td>\n",
              "    </tr>\n",
              "    <tr>\n",
              "      <th>107</th>\n",
              "      <td>2020-04-15T19:37:37.168Z</td>\n",
              "      <td>0.0</td>\n",
              "      <td>0.0</td>\n",
              "      <td>Goiás</td>\n",
              "    </tr>\n",
              "    <tr>\n",
              "      <th>123</th>\n",
              "      <td>2020-04-15T20:04:33.257Z</td>\n",
              "      <td>0.0</td>\n",
              "      <td>0.0</td>\n",
              "      <td>Goiás</td>\n",
              "    </tr>\n",
              "    <tr>\n",
              "      <th>124</th>\n",
              "      <td>2020-04-15T19:58:37.058Z</td>\n",
              "      <td>0.0</td>\n",
              "      <td>0.0</td>\n",
              "      <td>Goiás</td>\n",
              "    </tr>\n",
              "    <tr>\n",
              "      <th>187</th>\n",
              "      <td>2020-04-15T03:00:00.000Z</td>\n",
              "      <td>0.0</td>\n",
              "      <td>0.0</td>\n",
              "      <td>Goiás</td>\n",
              "    </tr>\n",
              "    <tr>\n",
              "      <th>...</th>\n",
              "      <td>...</td>\n",
              "      <td>...</td>\n",
              "      <td>...</td>\n",
              "      <td>...</td>\n",
              "    </tr>\n",
              "    <tr>\n",
              "      <th>553401</th>\n",
              "      <td>2021-09-11T03:00:23.540Z</td>\n",
              "      <td>0.0</td>\n",
              "      <td>0.0</td>\n",
              "      <td>Goiás</td>\n",
              "    </tr>\n",
              "    <tr>\n",
              "      <th>554435</th>\n",
              "      <td>2021-09-12T03:00:44.393Z</td>\n",
              "      <td>0.0</td>\n",
              "      <td>0.0</td>\n",
              "      <td>Goiás</td>\n",
              "    </tr>\n",
              "    <tr>\n",
              "      <th>554492</th>\n",
              "      <td>2021-09-12T03:00:31.319Z</td>\n",
              "      <td>0.0</td>\n",
              "      <td>0.0</td>\n",
              "      <td>Goiás</td>\n",
              "    </tr>\n",
              "    <tr>\n",
              "      <th>554694</th>\n",
              "      <td>2021-09-12T03:00:03.541Z</td>\n",
              "      <td>0.0</td>\n",
              "      <td>0.0</td>\n",
              "      <td>Goiás</td>\n",
              "    </tr>\n",
              "    <tr>\n",
              "      <th>554793</th>\n",
              "      <td>2021-09-12T03:00:45.766Z</td>\n",
              "      <td>0.0</td>\n",
              "      <td>0.0</td>\n",
              "      <td>Goiás</td>\n",
              "    </tr>\n",
              "  </tbody>\n",
              "</table>\n",
              "<p>78703 rows × 4 columns</p>\n",
              "</div>\n",
              "      <button class=\"colab-df-convert\" onclick=\"convertToInteractive('df-6b707e35-e332-4b7f-b43f-2618754ce613')\"\n",
              "              title=\"Convert this dataframe to an interactive table.\"\n",
              "              style=\"display:none;\">\n",
              "        \n",
              "  <svg xmlns=\"http://www.w3.org/2000/svg\" height=\"24px\"viewBox=\"0 0 24 24\"\n",
              "       width=\"24px\">\n",
              "    <path d=\"M0 0h24v24H0V0z\" fill=\"none\"/>\n",
              "    <path d=\"M18.56 5.44l.94 2.06.94-2.06 2.06-.94-2.06-.94-.94-2.06-.94 2.06-2.06.94zm-11 1L8.5 8.5l.94-2.06 2.06-.94-2.06-.94L8.5 2.5l-.94 2.06-2.06.94zm10 10l.94 2.06.94-2.06 2.06-.94-2.06-.94-.94-2.06-.94 2.06-2.06.94z\"/><path d=\"M17.41 7.96l-1.37-1.37c-.4-.4-.92-.59-1.43-.59-.52 0-1.04.2-1.43.59L10.3 9.45l-7.72 7.72c-.78.78-.78 2.05 0 2.83L4 21.41c.39.39.9.59 1.41.59.51 0 1.02-.2 1.41-.59l7.78-7.78 2.81-2.81c.8-.78.8-2.07 0-2.86zM5.41 20L4 18.59l7.72-7.72 1.47 1.35L5.41 20z\"/>\n",
              "  </svg>\n",
              "      </button>\n",
              "      \n",
              "  <style>\n",
              "    .colab-df-container {\n",
              "      display:flex;\n",
              "      flex-wrap:wrap;\n",
              "      gap: 12px;\n",
              "    }\n",
              "\n",
              "    .colab-df-convert {\n",
              "      background-color: #E8F0FE;\n",
              "      border: none;\n",
              "      border-radius: 50%;\n",
              "      cursor: pointer;\n",
              "      display: none;\n",
              "      fill: #1967D2;\n",
              "      height: 32px;\n",
              "      padding: 0 0 0 0;\n",
              "      width: 32px;\n",
              "    }\n",
              "\n",
              "    .colab-df-convert:hover {\n",
              "      background-color: #E2EBFA;\n",
              "      box-shadow: 0px 1px 2px rgba(60, 64, 67, 0.3), 0px 1px 3px 1px rgba(60, 64, 67, 0.15);\n",
              "      fill: #174EA6;\n",
              "    }\n",
              "\n",
              "    [theme=dark] .colab-df-convert {\n",
              "      background-color: #3B4455;\n",
              "      fill: #D2E3FC;\n",
              "    }\n",
              "\n",
              "    [theme=dark] .colab-df-convert:hover {\n",
              "      background-color: #434B5C;\n",
              "      box-shadow: 0px 1px 3px 1px rgba(0, 0, 0, 0.15);\n",
              "      filter: drop-shadow(0px 1px 2px rgba(0, 0, 0, 0.3));\n",
              "      fill: #FFFFFF;\n",
              "    }\n",
              "  </style>\n",
              "\n",
              "      <script>\n",
              "        const buttonEl =\n",
              "          document.querySelector('#df-6b707e35-e332-4b7f-b43f-2618754ce613 button.colab-df-convert');\n",
              "        buttonEl.style.display =\n",
              "          google.colab.kernel.accessAllowed ? 'block' : 'none';\n",
              "\n",
              "        async function convertToInteractive(key) {\n",
              "          const element = document.querySelector('#df-6b707e35-e332-4b7f-b43f-2618754ce613');\n",
              "          const dataTable =\n",
              "            await google.colab.kernel.invokeFunction('convertToInteractive',\n",
              "                                                     [key], {});\n",
              "          if (!dataTable) return;\n",
              "\n",
              "          const docLinkHtml = 'Like what you see? Visit the ' +\n",
              "            '<a target=\"_blank\" href=https://colab.research.google.com/notebooks/data_table.ipynb>data table notebook</a>'\n",
              "            + ' to learn more about interactive tables.';\n",
              "          element.innerHTML = '';\n",
              "          dataTable['output_type'] = 'display_data';\n",
              "          await google.colab.output.renderOutput(dataTable, element);\n",
              "          const docLink = document.createElement('div');\n",
              "          docLink.innerHTML = docLinkHtml;\n",
              "          element.appendChild(docLink);\n",
              "        }\n",
              "      </script>\n",
              "    </div>\n",
              "  </div>\n",
              "  "
            ]
          },
          "metadata": {},
          "execution_count": 10
        }
      ]
    },
    {
      "cell_type": "markdown",
      "source": [
        "# **Mato Grosso**"
      ],
      "metadata": {
        "id": "A8t7zorw0kpv"
      }
    },
    {
      "cell_type": "code",
      "source": [
        "# filtrar linhas e ficar somente com os estados do Centro Oeste - Mato Grosso\n",
        "df_mask=DF_Total_clear['estadoNotificacao']=='Mato Grosso'\n",
        "df_MT = DF_Total_clear[df_mask]"
      ],
      "metadata": {
        "id": "qE1AP0RxFSKr"
      },
      "execution_count": 11,
      "outputs": []
    },
    {
      "cell_type": "code",
      "source": [
        "df_MT"
      ],
      "metadata": {
        "colab": {
          "base_uri": "https://localhost:8080/",
          "height": 424
        },
        "id": "jsCEcLCNFWda",
        "outputId": "3f22f851-81fe-487f-8436-14b51177aa21"
      },
      "execution_count": 12,
      "outputs": [
        {
          "output_type": "execute_result",
          "data": {
            "text/plain": [
              "                 dataNotificacao  ocupacaoConfirmadoUti  \\\n",
              "786     2020-04-16T04:00:00.000Z                    0.0   \n",
              "1896    2020-04-18T13:48:18.691Z                    0.0   \n",
              "2126    2020-04-19T14:20:40.207Z                    0.0   \n",
              "2355    2020-04-20T13:53:53.120Z                    0.0   \n",
              "2439    2020-04-20T03:00:00.000Z                    0.0   \n",
              "...                          ...                    ...   \n",
              "552023  2021-09-10T04:00:10.706Z                    7.0   \n",
              "552043  2021-09-10T04:00:56.851Z                    6.0   \n",
              "553449  2021-09-11T04:00:10.322Z                    0.0   \n",
              "554668  2021-09-12T04:00:15.855Z                    0.0   \n",
              "554699  2021-09-12T04:00:44.541Z                    7.0   \n",
              "\n",
              "        saidaConfirmadaObitos estadoNotificacao  \n",
              "786                       0.0       Mato Grosso  \n",
              "1896                      0.0       Mato Grosso  \n",
              "2126                      0.0       Mato Grosso  \n",
              "2355                      0.0       Mato Grosso  \n",
              "2439                      0.0       Mato Grosso  \n",
              "...                       ...               ...  \n",
              "552023                    0.0       Mato Grosso  \n",
              "552043                    0.0       Mato Grosso  \n",
              "553449                    0.0       Mato Grosso  \n",
              "554668                    0.0       Mato Grosso  \n",
              "554699                    0.0       Mato Grosso  \n",
              "\n",
              "[38130 rows x 4 columns]"
            ],
            "text/html": [
              "\n",
              "  <div id=\"df-0b952ccb-ad39-409c-a3be-e4548379d9eb\">\n",
              "    <div class=\"colab-df-container\">\n",
              "      <div>\n",
              "<style scoped>\n",
              "    .dataframe tbody tr th:only-of-type {\n",
              "        vertical-align: middle;\n",
              "    }\n",
              "\n",
              "    .dataframe tbody tr th {\n",
              "        vertical-align: top;\n",
              "    }\n",
              "\n",
              "    .dataframe thead th {\n",
              "        text-align: right;\n",
              "    }\n",
              "</style>\n",
              "<table border=\"1\" class=\"dataframe\">\n",
              "  <thead>\n",
              "    <tr style=\"text-align: right;\">\n",
              "      <th></th>\n",
              "      <th>dataNotificacao</th>\n",
              "      <th>ocupacaoConfirmadoUti</th>\n",
              "      <th>saidaConfirmadaObitos</th>\n",
              "      <th>estadoNotificacao</th>\n",
              "    </tr>\n",
              "  </thead>\n",
              "  <tbody>\n",
              "    <tr>\n",
              "      <th>786</th>\n",
              "      <td>2020-04-16T04:00:00.000Z</td>\n",
              "      <td>0.0</td>\n",
              "      <td>0.0</td>\n",
              "      <td>Mato Grosso</td>\n",
              "    </tr>\n",
              "    <tr>\n",
              "      <th>1896</th>\n",
              "      <td>2020-04-18T13:48:18.691Z</td>\n",
              "      <td>0.0</td>\n",
              "      <td>0.0</td>\n",
              "      <td>Mato Grosso</td>\n",
              "    </tr>\n",
              "    <tr>\n",
              "      <th>2126</th>\n",
              "      <td>2020-04-19T14:20:40.207Z</td>\n",
              "      <td>0.0</td>\n",
              "      <td>0.0</td>\n",
              "      <td>Mato Grosso</td>\n",
              "    </tr>\n",
              "    <tr>\n",
              "      <th>2355</th>\n",
              "      <td>2020-04-20T13:53:53.120Z</td>\n",
              "      <td>0.0</td>\n",
              "      <td>0.0</td>\n",
              "      <td>Mato Grosso</td>\n",
              "    </tr>\n",
              "    <tr>\n",
              "      <th>2439</th>\n",
              "      <td>2020-04-20T03:00:00.000Z</td>\n",
              "      <td>0.0</td>\n",
              "      <td>0.0</td>\n",
              "      <td>Mato Grosso</td>\n",
              "    </tr>\n",
              "    <tr>\n",
              "      <th>...</th>\n",
              "      <td>...</td>\n",
              "      <td>...</td>\n",
              "      <td>...</td>\n",
              "      <td>...</td>\n",
              "    </tr>\n",
              "    <tr>\n",
              "      <th>552023</th>\n",
              "      <td>2021-09-10T04:00:10.706Z</td>\n",
              "      <td>7.0</td>\n",
              "      <td>0.0</td>\n",
              "      <td>Mato Grosso</td>\n",
              "    </tr>\n",
              "    <tr>\n",
              "      <th>552043</th>\n",
              "      <td>2021-09-10T04:00:56.851Z</td>\n",
              "      <td>6.0</td>\n",
              "      <td>0.0</td>\n",
              "      <td>Mato Grosso</td>\n",
              "    </tr>\n",
              "    <tr>\n",
              "      <th>553449</th>\n",
              "      <td>2021-09-11T04:00:10.322Z</td>\n",
              "      <td>0.0</td>\n",
              "      <td>0.0</td>\n",
              "      <td>Mato Grosso</td>\n",
              "    </tr>\n",
              "    <tr>\n",
              "      <th>554668</th>\n",
              "      <td>2021-09-12T04:00:15.855Z</td>\n",
              "      <td>0.0</td>\n",
              "      <td>0.0</td>\n",
              "      <td>Mato Grosso</td>\n",
              "    </tr>\n",
              "    <tr>\n",
              "      <th>554699</th>\n",
              "      <td>2021-09-12T04:00:44.541Z</td>\n",
              "      <td>7.0</td>\n",
              "      <td>0.0</td>\n",
              "      <td>Mato Grosso</td>\n",
              "    </tr>\n",
              "  </tbody>\n",
              "</table>\n",
              "<p>38130 rows × 4 columns</p>\n",
              "</div>\n",
              "      <button class=\"colab-df-convert\" onclick=\"convertToInteractive('df-0b952ccb-ad39-409c-a3be-e4548379d9eb')\"\n",
              "              title=\"Convert this dataframe to an interactive table.\"\n",
              "              style=\"display:none;\">\n",
              "        \n",
              "  <svg xmlns=\"http://www.w3.org/2000/svg\" height=\"24px\"viewBox=\"0 0 24 24\"\n",
              "       width=\"24px\">\n",
              "    <path d=\"M0 0h24v24H0V0z\" fill=\"none\"/>\n",
              "    <path d=\"M18.56 5.44l.94 2.06.94-2.06 2.06-.94-2.06-.94-.94-2.06-.94 2.06-2.06.94zm-11 1L8.5 8.5l.94-2.06 2.06-.94-2.06-.94L8.5 2.5l-.94 2.06-2.06.94zm10 10l.94 2.06.94-2.06 2.06-.94-2.06-.94-.94-2.06-.94 2.06-2.06.94z\"/><path d=\"M17.41 7.96l-1.37-1.37c-.4-.4-.92-.59-1.43-.59-.52 0-1.04.2-1.43.59L10.3 9.45l-7.72 7.72c-.78.78-.78 2.05 0 2.83L4 21.41c.39.39.9.59 1.41.59.51 0 1.02-.2 1.41-.59l7.78-7.78 2.81-2.81c.8-.78.8-2.07 0-2.86zM5.41 20L4 18.59l7.72-7.72 1.47 1.35L5.41 20z\"/>\n",
              "  </svg>\n",
              "      </button>\n",
              "      \n",
              "  <style>\n",
              "    .colab-df-container {\n",
              "      display:flex;\n",
              "      flex-wrap:wrap;\n",
              "      gap: 12px;\n",
              "    }\n",
              "\n",
              "    .colab-df-convert {\n",
              "      background-color: #E8F0FE;\n",
              "      border: none;\n",
              "      border-radius: 50%;\n",
              "      cursor: pointer;\n",
              "      display: none;\n",
              "      fill: #1967D2;\n",
              "      height: 32px;\n",
              "      padding: 0 0 0 0;\n",
              "      width: 32px;\n",
              "    }\n",
              "\n",
              "    .colab-df-convert:hover {\n",
              "      background-color: #E2EBFA;\n",
              "      box-shadow: 0px 1px 2px rgba(60, 64, 67, 0.3), 0px 1px 3px 1px rgba(60, 64, 67, 0.15);\n",
              "      fill: #174EA6;\n",
              "    }\n",
              "\n",
              "    [theme=dark] .colab-df-convert {\n",
              "      background-color: #3B4455;\n",
              "      fill: #D2E3FC;\n",
              "    }\n",
              "\n",
              "    [theme=dark] .colab-df-convert:hover {\n",
              "      background-color: #434B5C;\n",
              "      box-shadow: 0px 1px 3px 1px rgba(0, 0, 0, 0.15);\n",
              "      filter: drop-shadow(0px 1px 2px rgba(0, 0, 0, 0.3));\n",
              "      fill: #FFFFFF;\n",
              "    }\n",
              "  </style>\n",
              "\n",
              "      <script>\n",
              "        const buttonEl =\n",
              "          document.querySelector('#df-0b952ccb-ad39-409c-a3be-e4548379d9eb button.colab-df-convert');\n",
              "        buttonEl.style.display =\n",
              "          google.colab.kernel.accessAllowed ? 'block' : 'none';\n",
              "\n",
              "        async function convertToInteractive(key) {\n",
              "          const element = document.querySelector('#df-0b952ccb-ad39-409c-a3be-e4548379d9eb');\n",
              "          const dataTable =\n",
              "            await google.colab.kernel.invokeFunction('convertToInteractive',\n",
              "                                                     [key], {});\n",
              "          if (!dataTable) return;\n",
              "\n",
              "          const docLinkHtml = 'Like what you see? Visit the ' +\n",
              "            '<a target=\"_blank\" href=https://colab.research.google.com/notebooks/data_table.ipynb>data table notebook</a>'\n",
              "            + ' to learn more about interactive tables.';\n",
              "          element.innerHTML = '';\n",
              "          dataTable['output_type'] = 'display_data';\n",
              "          await google.colab.output.renderOutput(dataTable, element);\n",
              "          const docLink = document.createElement('div');\n",
              "          docLink.innerHTML = docLinkHtml;\n",
              "          element.appendChild(docLink);\n",
              "        }\n",
              "      </script>\n",
              "    </div>\n",
              "  </div>\n",
              "  "
            ]
          },
          "metadata": {},
          "execution_count": 12
        }
      ]
    },
    {
      "cell_type": "markdown",
      "source": [
        "# **Mato Grosso do Sul**"
      ],
      "metadata": {
        "id": "Wro1gn310nNr"
      }
    },
    {
      "cell_type": "code",
      "source": [
        "# filtrar linhas e ficar somente com os estados do Centro Oeste - Mato Grosos do Sul\n",
        "df_mask=DF_Total_clear['estadoNotificacao']=='Mato Grosso do Sul'\n",
        "df_MS = DF_Total_clear[df_mask]"
      ],
      "metadata": {
        "id": "r7-QSFHdFcIm"
      },
      "execution_count": 13,
      "outputs": []
    },
    {
      "cell_type": "code",
      "source": [
        "df_MS"
      ],
      "metadata": {
        "colab": {
          "base_uri": "https://localhost:8080/",
          "height": 424
        },
        "id": "VZTfBmZSFf3f",
        "outputId": "aa0cb677-ea4d-4a70-c2d8-61be20503c14"
      },
      "execution_count": 14,
      "outputs": [
        {
          "output_type": "execute_result",
          "data": {
            "text/plain": [
              "                 dataNotificacao  ocupacaoConfirmadoUti  \\\n",
              "62      2020-04-15T19:18:27.505Z                   10.0   \n",
              "78      2020-04-01T03:00:00.000Z                    0.0   \n",
              "79      2020-04-02T03:00:00.000Z                    0.0   \n",
              "80      2020-04-03T03:00:00.000Z                    0.0   \n",
              "82      2020-04-15T19:46:53.541Z                    0.0   \n",
              "...                          ...                    ...   \n",
              "549110  2021-09-09T04:00:43.181Z                    2.0   \n",
              "551284  2021-09-10T04:00:59.655Z                    4.0   \n",
              "553164  2021-09-11T03:00:04.688Z                    3.0   \n",
              "553355  2021-09-11T04:00:06.062Z                    1.0   \n",
              "554513  2021-09-12T03:00:35.887Z                    3.0   \n",
              "\n",
              "        saidaConfirmadaObitos   estadoNotificacao  \n",
              "62                        0.0  Mato Grosso do Sul  \n",
              "78                        0.0  Mato Grosso do Sul  \n",
              "79                        0.0  Mato Grosso do Sul  \n",
              "80                        0.0  Mato Grosso do Sul  \n",
              "82                        0.0  Mato Grosso do Sul  \n",
              "...                       ...                 ...  \n",
              "549110                    0.0  Mato Grosso do Sul  \n",
              "551284                    0.0  Mato Grosso do Sul  \n",
              "553164                    0.0  Mato Grosso do Sul  \n",
              "553355                    1.0  Mato Grosso do Sul  \n",
              "554513                    0.0  Mato Grosso do Sul  \n",
              "\n",
              "[31704 rows x 4 columns]"
            ],
            "text/html": [
              "\n",
              "  <div id=\"df-4f311b80-c782-4a61-a490-b0c936456a53\">\n",
              "    <div class=\"colab-df-container\">\n",
              "      <div>\n",
              "<style scoped>\n",
              "    .dataframe tbody tr th:only-of-type {\n",
              "        vertical-align: middle;\n",
              "    }\n",
              "\n",
              "    .dataframe tbody tr th {\n",
              "        vertical-align: top;\n",
              "    }\n",
              "\n",
              "    .dataframe thead th {\n",
              "        text-align: right;\n",
              "    }\n",
              "</style>\n",
              "<table border=\"1\" class=\"dataframe\">\n",
              "  <thead>\n",
              "    <tr style=\"text-align: right;\">\n",
              "      <th></th>\n",
              "      <th>dataNotificacao</th>\n",
              "      <th>ocupacaoConfirmadoUti</th>\n",
              "      <th>saidaConfirmadaObitos</th>\n",
              "      <th>estadoNotificacao</th>\n",
              "    </tr>\n",
              "  </thead>\n",
              "  <tbody>\n",
              "    <tr>\n",
              "      <th>62</th>\n",
              "      <td>2020-04-15T19:18:27.505Z</td>\n",
              "      <td>10.0</td>\n",
              "      <td>0.0</td>\n",
              "      <td>Mato Grosso do Sul</td>\n",
              "    </tr>\n",
              "    <tr>\n",
              "      <th>78</th>\n",
              "      <td>2020-04-01T03:00:00.000Z</td>\n",
              "      <td>0.0</td>\n",
              "      <td>0.0</td>\n",
              "      <td>Mato Grosso do Sul</td>\n",
              "    </tr>\n",
              "    <tr>\n",
              "      <th>79</th>\n",
              "      <td>2020-04-02T03:00:00.000Z</td>\n",
              "      <td>0.0</td>\n",
              "      <td>0.0</td>\n",
              "      <td>Mato Grosso do Sul</td>\n",
              "    </tr>\n",
              "    <tr>\n",
              "      <th>80</th>\n",
              "      <td>2020-04-03T03:00:00.000Z</td>\n",
              "      <td>0.0</td>\n",
              "      <td>0.0</td>\n",
              "      <td>Mato Grosso do Sul</td>\n",
              "    </tr>\n",
              "    <tr>\n",
              "      <th>82</th>\n",
              "      <td>2020-04-15T19:46:53.541Z</td>\n",
              "      <td>0.0</td>\n",
              "      <td>0.0</td>\n",
              "      <td>Mato Grosso do Sul</td>\n",
              "    </tr>\n",
              "    <tr>\n",
              "      <th>...</th>\n",
              "      <td>...</td>\n",
              "      <td>...</td>\n",
              "      <td>...</td>\n",
              "      <td>...</td>\n",
              "    </tr>\n",
              "    <tr>\n",
              "      <th>549110</th>\n",
              "      <td>2021-09-09T04:00:43.181Z</td>\n",
              "      <td>2.0</td>\n",
              "      <td>0.0</td>\n",
              "      <td>Mato Grosso do Sul</td>\n",
              "    </tr>\n",
              "    <tr>\n",
              "      <th>551284</th>\n",
              "      <td>2021-09-10T04:00:59.655Z</td>\n",
              "      <td>4.0</td>\n",
              "      <td>0.0</td>\n",
              "      <td>Mato Grosso do Sul</td>\n",
              "    </tr>\n",
              "    <tr>\n",
              "      <th>553164</th>\n",
              "      <td>2021-09-11T03:00:04.688Z</td>\n",
              "      <td>3.0</td>\n",
              "      <td>0.0</td>\n",
              "      <td>Mato Grosso do Sul</td>\n",
              "    </tr>\n",
              "    <tr>\n",
              "      <th>553355</th>\n",
              "      <td>2021-09-11T04:00:06.062Z</td>\n",
              "      <td>1.0</td>\n",
              "      <td>1.0</td>\n",
              "      <td>Mato Grosso do Sul</td>\n",
              "    </tr>\n",
              "    <tr>\n",
              "      <th>554513</th>\n",
              "      <td>2021-09-12T03:00:35.887Z</td>\n",
              "      <td>3.0</td>\n",
              "      <td>0.0</td>\n",
              "      <td>Mato Grosso do Sul</td>\n",
              "    </tr>\n",
              "  </tbody>\n",
              "</table>\n",
              "<p>31704 rows × 4 columns</p>\n",
              "</div>\n",
              "      <button class=\"colab-df-convert\" onclick=\"convertToInteractive('df-4f311b80-c782-4a61-a490-b0c936456a53')\"\n",
              "              title=\"Convert this dataframe to an interactive table.\"\n",
              "              style=\"display:none;\">\n",
              "        \n",
              "  <svg xmlns=\"http://www.w3.org/2000/svg\" height=\"24px\"viewBox=\"0 0 24 24\"\n",
              "       width=\"24px\">\n",
              "    <path d=\"M0 0h24v24H0V0z\" fill=\"none\"/>\n",
              "    <path d=\"M18.56 5.44l.94 2.06.94-2.06 2.06-.94-2.06-.94-.94-2.06-.94 2.06-2.06.94zm-11 1L8.5 8.5l.94-2.06 2.06-.94-2.06-.94L8.5 2.5l-.94 2.06-2.06.94zm10 10l.94 2.06.94-2.06 2.06-.94-2.06-.94-.94-2.06-.94 2.06-2.06.94z\"/><path d=\"M17.41 7.96l-1.37-1.37c-.4-.4-.92-.59-1.43-.59-.52 0-1.04.2-1.43.59L10.3 9.45l-7.72 7.72c-.78.78-.78 2.05 0 2.83L4 21.41c.39.39.9.59 1.41.59.51 0 1.02-.2 1.41-.59l7.78-7.78 2.81-2.81c.8-.78.8-2.07 0-2.86zM5.41 20L4 18.59l7.72-7.72 1.47 1.35L5.41 20z\"/>\n",
              "  </svg>\n",
              "      </button>\n",
              "      \n",
              "  <style>\n",
              "    .colab-df-container {\n",
              "      display:flex;\n",
              "      flex-wrap:wrap;\n",
              "      gap: 12px;\n",
              "    }\n",
              "\n",
              "    .colab-df-convert {\n",
              "      background-color: #E8F0FE;\n",
              "      border: none;\n",
              "      border-radius: 50%;\n",
              "      cursor: pointer;\n",
              "      display: none;\n",
              "      fill: #1967D2;\n",
              "      height: 32px;\n",
              "      padding: 0 0 0 0;\n",
              "      width: 32px;\n",
              "    }\n",
              "\n",
              "    .colab-df-convert:hover {\n",
              "      background-color: #E2EBFA;\n",
              "      box-shadow: 0px 1px 2px rgba(60, 64, 67, 0.3), 0px 1px 3px 1px rgba(60, 64, 67, 0.15);\n",
              "      fill: #174EA6;\n",
              "    }\n",
              "\n",
              "    [theme=dark] .colab-df-convert {\n",
              "      background-color: #3B4455;\n",
              "      fill: #D2E3FC;\n",
              "    }\n",
              "\n",
              "    [theme=dark] .colab-df-convert:hover {\n",
              "      background-color: #434B5C;\n",
              "      box-shadow: 0px 1px 3px 1px rgba(0, 0, 0, 0.15);\n",
              "      filter: drop-shadow(0px 1px 2px rgba(0, 0, 0, 0.3));\n",
              "      fill: #FFFFFF;\n",
              "    }\n",
              "  </style>\n",
              "\n",
              "      <script>\n",
              "        const buttonEl =\n",
              "          document.querySelector('#df-4f311b80-c782-4a61-a490-b0c936456a53 button.colab-df-convert');\n",
              "        buttonEl.style.display =\n",
              "          google.colab.kernel.accessAllowed ? 'block' : 'none';\n",
              "\n",
              "        async function convertToInteractive(key) {\n",
              "          const element = document.querySelector('#df-4f311b80-c782-4a61-a490-b0c936456a53');\n",
              "          const dataTable =\n",
              "            await google.colab.kernel.invokeFunction('convertToInteractive',\n",
              "                                                     [key], {});\n",
              "          if (!dataTable) return;\n",
              "\n",
              "          const docLinkHtml = 'Like what you see? Visit the ' +\n",
              "            '<a target=\"_blank\" href=https://colab.research.google.com/notebooks/data_table.ipynb>data table notebook</a>'\n",
              "            + ' to learn more about interactive tables.';\n",
              "          element.innerHTML = '';\n",
              "          dataTable['output_type'] = 'display_data';\n",
              "          await google.colab.output.renderOutput(dataTable, element);\n",
              "          const docLink = document.createElement('div');\n",
              "          docLink.innerHTML = docLinkHtml;\n",
              "          element.appendChild(docLink);\n",
              "        }\n",
              "      </script>\n",
              "    </div>\n",
              "  </div>\n",
              "  "
            ]
          },
          "metadata": {},
          "execution_count": 14
        }
      ]
    },
    {
      "cell_type": "markdown",
      "source": [
        "# **Distrito Federal**"
      ],
      "metadata": {
        "id": "7oN0oe0O0qf8"
      }
    },
    {
      "cell_type": "code",
      "source": [
        "# filtrar linhas e ficar somente com os estados do Centro Oeste - Distrito Federal\n",
        "df_mask=DF_Total_clear['estadoNotificacao']=='Distrito Federal'\n",
        "df_DF = DF_Total_clear[df_mask]"
      ],
      "metadata": {
        "id": "etZAw1fMFm9-"
      },
      "execution_count": 15,
      "outputs": []
    },
    {
      "cell_type": "code",
      "source": [
        "df_DF"
      ],
      "metadata": {
        "colab": {
          "base_uri": "https://localhost:8080/",
          "height": 424
        },
        "id": "TmY20dC4Fx62",
        "outputId": "c49769f7-ac79-45f1-bea7-53d233d8c1aa"
      },
      "execution_count": 16,
      "outputs": [
        {
          "output_type": "execute_result",
          "data": {
            "text/plain": [
              "                 dataNotificacao  ocupacaoConfirmadoUti  \\\n",
              "1352    2020-04-09T03:00:00.000Z                    3.0   \n",
              "1361    2020-04-10T03:00:00.000Z                    2.0   \n",
              "1365    2020-04-11T03:00:00.000Z                    1.0   \n",
              "1369    2020-04-12T03:00:00.000Z                    1.0   \n",
              "1371    2020-04-14T03:00:00.000Z                    1.0   \n",
              "...                          ...                    ...   \n",
              "553362  2021-09-11T03:00:42.121Z                    0.0   \n",
              "554399  2021-09-11T03:00:00.000Z                    8.0   \n",
              "554613  2021-09-11T03:00:00.000Z                    5.0   \n",
              "554619  2021-09-12T03:00:48.156Z                    0.0   \n",
              "554787  2021-09-12T03:00:56.643Z                    8.0   \n",
              "\n",
              "        saidaConfirmadaObitos estadoNotificacao  \n",
              "1352                      0.0  Distrito Federal  \n",
              "1361                      0.0  Distrito Federal  \n",
              "1365                      0.0  Distrito Federal  \n",
              "1369                      0.0  Distrito Federal  \n",
              "1371                      0.0  Distrito Federal  \n",
              "...                       ...               ...  \n",
              "553362                    0.0  Distrito Federal  \n",
              "554399                    0.0  Distrito Federal  \n",
              "554613                    0.0  Distrito Federal  \n",
              "554619                    0.0  Distrito Federal  \n",
              "554787                    0.0  Distrito Federal  \n",
              "\n",
              "[6294 rows x 4 columns]"
            ],
            "text/html": [
              "\n",
              "  <div id=\"df-f07c82cb-4e1f-4f88-bc21-2398c84ad865\">\n",
              "    <div class=\"colab-df-container\">\n",
              "      <div>\n",
              "<style scoped>\n",
              "    .dataframe tbody tr th:only-of-type {\n",
              "        vertical-align: middle;\n",
              "    }\n",
              "\n",
              "    .dataframe tbody tr th {\n",
              "        vertical-align: top;\n",
              "    }\n",
              "\n",
              "    .dataframe thead th {\n",
              "        text-align: right;\n",
              "    }\n",
              "</style>\n",
              "<table border=\"1\" class=\"dataframe\">\n",
              "  <thead>\n",
              "    <tr style=\"text-align: right;\">\n",
              "      <th></th>\n",
              "      <th>dataNotificacao</th>\n",
              "      <th>ocupacaoConfirmadoUti</th>\n",
              "      <th>saidaConfirmadaObitos</th>\n",
              "      <th>estadoNotificacao</th>\n",
              "    </tr>\n",
              "  </thead>\n",
              "  <tbody>\n",
              "    <tr>\n",
              "      <th>1352</th>\n",
              "      <td>2020-04-09T03:00:00.000Z</td>\n",
              "      <td>3.0</td>\n",
              "      <td>0.0</td>\n",
              "      <td>Distrito Federal</td>\n",
              "    </tr>\n",
              "    <tr>\n",
              "      <th>1361</th>\n",
              "      <td>2020-04-10T03:00:00.000Z</td>\n",
              "      <td>2.0</td>\n",
              "      <td>0.0</td>\n",
              "      <td>Distrito Federal</td>\n",
              "    </tr>\n",
              "    <tr>\n",
              "      <th>1365</th>\n",
              "      <td>2020-04-11T03:00:00.000Z</td>\n",
              "      <td>1.0</td>\n",
              "      <td>0.0</td>\n",
              "      <td>Distrito Federal</td>\n",
              "    </tr>\n",
              "    <tr>\n",
              "      <th>1369</th>\n",
              "      <td>2020-04-12T03:00:00.000Z</td>\n",
              "      <td>1.0</td>\n",
              "      <td>0.0</td>\n",
              "      <td>Distrito Federal</td>\n",
              "    </tr>\n",
              "    <tr>\n",
              "      <th>1371</th>\n",
              "      <td>2020-04-14T03:00:00.000Z</td>\n",
              "      <td>1.0</td>\n",
              "      <td>0.0</td>\n",
              "      <td>Distrito Federal</td>\n",
              "    </tr>\n",
              "    <tr>\n",
              "      <th>...</th>\n",
              "      <td>...</td>\n",
              "      <td>...</td>\n",
              "      <td>...</td>\n",
              "      <td>...</td>\n",
              "    </tr>\n",
              "    <tr>\n",
              "      <th>553362</th>\n",
              "      <td>2021-09-11T03:00:42.121Z</td>\n",
              "      <td>0.0</td>\n",
              "      <td>0.0</td>\n",
              "      <td>Distrito Federal</td>\n",
              "    </tr>\n",
              "    <tr>\n",
              "      <th>554399</th>\n",
              "      <td>2021-09-11T03:00:00.000Z</td>\n",
              "      <td>8.0</td>\n",
              "      <td>0.0</td>\n",
              "      <td>Distrito Federal</td>\n",
              "    </tr>\n",
              "    <tr>\n",
              "      <th>554613</th>\n",
              "      <td>2021-09-11T03:00:00.000Z</td>\n",
              "      <td>5.0</td>\n",
              "      <td>0.0</td>\n",
              "      <td>Distrito Federal</td>\n",
              "    </tr>\n",
              "    <tr>\n",
              "      <th>554619</th>\n",
              "      <td>2021-09-12T03:00:48.156Z</td>\n",
              "      <td>0.0</td>\n",
              "      <td>0.0</td>\n",
              "      <td>Distrito Federal</td>\n",
              "    </tr>\n",
              "    <tr>\n",
              "      <th>554787</th>\n",
              "      <td>2021-09-12T03:00:56.643Z</td>\n",
              "      <td>8.0</td>\n",
              "      <td>0.0</td>\n",
              "      <td>Distrito Federal</td>\n",
              "    </tr>\n",
              "  </tbody>\n",
              "</table>\n",
              "<p>6294 rows × 4 columns</p>\n",
              "</div>\n",
              "      <button class=\"colab-df-convert\" onclick=\"convertToInteractive('df-f07c82cb-4e1f-4f88-bc21-2398c84ad865')\"\n",
              "              title=\"Convert this dataframe to an interactive table.\"\n",
              "              style=\"display:none;\">\n",
              "        \n",
              "  <svg xmlns=\"http://www.w3.org/2000/svg\" height=\"24px\"viewBox=\"0 0 24 24\"\n",
              "       width=\"24px\">\n",
              "    <path d=\"M0 0h24v24H0V0z\" fill=\"none\"/>\n",
              "    <path d=\"M18.56 5.44l.94 2.06.94-2.06 2.06-.94-2.06-.94-.94-2.06-.94 2.06-2.06.94zm-11 1L8.5 8.5l.94-2.06 2.06-.94-2.06-.94L8.5 2.5l-.94 2.06-2.06.94zm10 10l.94 2.06.94-2.06 2.06-.94-2.06-.94-.94-2.06-.94 2.06-2.06.94z\"/><path d=\"M17.41 7.96l-1.37-1.37c-.4-.4-.92-.59-1.43-.59-.52 0-1.04.2-1.43.59L10.3 9.45l-7.72 7.72c-.78.78-.78 2.05 0 2.83L4 21.41c.39.39.9.59 1.41.59.51 0 1.02-.2 1.41-.59l7.78-7.78 2.81-2.81c.8-.78.8-2.07 0-2.86zM5.41 20L4 18.59l7.72-7.72 1.47 1.35L5.41 20z\"/>\n",
              "  </svg>\n",
              "      </button>\n",
              "      \n",
              "  <style>\n",
              "    .colab-df-container {\n",
              "      display:flex;\n",
              "      flex-wrap:wrap;\n",
              "      gap: 12px;\n",
              "    }\n",
              "\n",
              "    .colab-df-convert {\n",
              "      background-color: #E8F0FE;\n",
              "      border: none;\n",
              "      border-radius: 50%;\n",
              "      cursor: pointer;\n",
              "      display: none;\n",
              "      fill: #1967D2;\n",
              "      height: 32px;\n",
              "      padding: 0 0 0 0;\n",
              "      width: 32px;\n",
              "    }\n",
              "\n",
              "    .colab-df-convert:hover {\n",
              "      background-color: #E2EBFA;\n",
              "      box-shadow: 0px 1px 2px rgba(60, 64, 67, 0.3), 0px 1px 3px 1px rgba(60, 64, 67, 0.15);\n",
              "      fill: #174EA6;\n",
              "    }\n",
              "\n",
              "    [theme=dark] .colab-df-convert {\n",
              "      background-color: #3B4455;\n",
              "      fill: #D2E3FC;\n",
              "    }\n",
              "\n",
              "    [theme=dark] .colab-df-convert:hover {\n",
              "      background-color: #434B5C;\n",
              "      box-shadow: 0px 1px 3px 1px rgba(0, 0, 0, 0.15);\n",
              "      filter: drop-shadow(0px 1px 2px rgba(0, 0, 0, 0.3));\n",
              "      fill: #FFFFFF;\n",
              "    }\n",
              "  </style>\n",
              "\n",
              "      <script>\n",
              "        const buttonEl =\n",
              "          document.querySelector('#df-f07c82cb-4e1f-4f88-bc21-2398c84ad865 button.colab-df-convert');\n",
              "        buttonEl.style.display =\n",
              "          google.colab.kernel.accessAllowed ? 'block' : 'none';\n",
              "\n",
              "        async function convertToInteractive(key) {\n",
              "          const element = document.querySelector('#df-f07c82cb-4e1f-4f88-bc21-2398c84ad865');\n",
              "          const dataTable =\n",
              "            await google.colab.kernel.invokeFunction('convertToInteractive',\n",
              "                                                     [key], {});\n",
              "          if (!dataTable) return;\n",
              "\n",
              "          const docLinkHtml = 'Like what you see? Visit the ' +\n",
              "            '<a target=\"_blank\" href=https://colab.research.google.com/notebooks/data_table.ipynb>data table notebook</a>'\n",
              "            + ' to learn more about interactive tables.';\n",
              "          element.innerHTML = '';\n",
              "          dataTable['output_type'] = 'display_data';\n",
              "          await google.colab.output.renderOutput(dataTable, element);\n",
              "          const docLink = document.createElement('div');\n",
              "          docLink.innerHTML = docLinkHtml;\n",
              "          element.appendChild(docLink);\n",
              "        }\n",
              "      </script>\n",
              "    </div>\n",
              "  </div>\n",
              "  "
            ]
          },
          "metadata": {},
          "execution_count": 16
        }
      ]
    },
    {
      "cell_type": "markdown",
      "source": [
        "# **Centro-Oeste**"
      ],
      "metadata": {
        "id": "T-Uhivqk01Q_"
      }
    },
    {
      "cell_type": "code",
      "source": [
        "frames = [df_DF, df_GO,df_MT,df_MS]\n",
        "  \n",
        "df_CO = pd.concat(frames)"
      ],
      "metadata": {
        "id": "YhFQBx4VMOAK"
      },
      "execution_count": 17,
      "outputs": []
    },
    {
      "cell_type": "code",
      "source": [
        "df_CO"
      ],
      "metadata": {
        "colab": {
          "base_uri": "https://localhost:8080/",
          "height": 424
        },
        "id": "eppcDWknPVpp",
        "outputId": "a4b64ab1-0f29-46ae-de56-33750463a6fe"
      },
      "execution_count": 18,
      "outputs": [
        {
          "output_type": "execute_result",
          "data": {
            "text/plain": [
              "                 dataNotificacao  ocupacaoConfirmadoUti  \\\n",
              "1352    2020-04-09T03:00:00.000Z                    3.0   \n",
              "1361    2020-04-10T03:00:00.000Z                    2.0   \n",
              "1365    2020-04-11T03:00:00.000Z                    1.0   \n",
              "1369    2020-04-12T03:00:00.000Z                    1.0   \n",
              "1371    2020-04-14T03:00:00.000Z                    1.0   \n",
              "...                          ...                    ...   \n",
              "549110  2021-09-09T04:00:43.181Z                    2.0   \n",
              "551284  2021-09-10T04:00:59.655Z                    4.0   \n",
              "553164  2021-09-11T03:00:04.688Z                    3.0   \n",
              "553355  2021-09-11T04:00:06.062Z                    1.0   \n",
              "554513  2021-09-12T03:00:35.887Z                    3.0   \n",
              "\n",
              "        saidaConfirmadaObitos   estadoNotificacao  \n",
              "1352                      0.0    Distrito Federal  \n",
              "1361                      0.0    Distrito Federal  \n",
              "1365                      0.0    Distrito Federal  \n",
              "1369                      0.0    Distrito Federal  \n",
              "1371                      0.0    Distrito Federal  \n",
              "...                       ...                 ...  \n",
              "549110                    0.0  Mato Grosso do Sul  \n",
              "551284                    0.0  Mato Grosso do Sul  \n",
              "553164                    0.0  Mato Grosso do Sul  \n",
              "553355                    1.0  Mato Grosso do Sul  \n",
              "554513                    0.0  Mato Grosso do Sul  \n",
              "\n",
              "[154831 rows x 4 columns]"
            ],
            "text/html": [
              "\n",
              "  <div id=\"df-00da9312-bc10-4204-8046-e45c58c72b2b\">\n",
              "    <div class=\"colab-df-container\">\n",
              "      <div>\n",
              "<style scoped>\n",
              "    .dataframe tbody tr th:only-of-type {\n",
              "        vertical-align: middle;\n",
              "    }\n",
              "\n",
              "    .dataframe tbody tr th {\n",
              "        vertical-align: top;\n",
              "    }\n",
              "\n",
              "    .dataframe thead th {\n",
              "        text-align: right;\n",
              "    }\n",
              "</style>\n",
              "<table border=\"1\" class=\"dataframe\">\n",
              "  <thead>\n",
              "    <tr style=\"text-align: right;\">\n",
              "      <th></th>\n",
              "      <th>dataNotificacao</th>\n",
              "      <th>ocupacaoConfirmadoUti</th>\n",
              "      <th>saidaConfirmadaObitos</th>\n",
              "      <th>estadoNotificacao</th>\n",
              "    </tr>\n",
              "  </thead>\n",
              "  <tbody>\n",
              "    <tr>\n",
              "      <th>1352</th>\n",
              "      <td>2020-04-09T03:00:00.000Z</td>\n",
              "      <td>3.0</td>\n",
              "      <td>0.0</td>\n",
              "      <td>Distrito Federal</td>\n",
              "    </tr>\n",
              "    <tr>\n",
              "      <th>1361</th>\n",
              "      <td>2020-04-10T03:00:00.000Z</td>\n",
              "      <td>2.0</td>\n",
              "      <td>0.0</td>\n",
              "      <td>Distrito Federal</td>\n",
              "    </tr>\n",
              "    <tr>\n",
              "      <th>1365</th>\n",
              "      <td>2020-04-11T03:00:00.000Z</td>\n",
              "      <td>1.0</td>\n",
              "      <td>0.0</td>\n",
              "      <td>Distrito Federal</td>\n",
              "    </tr>\n",
              "    <tr>\n",
              "      <th>1369</th>\n",
              "      <td>2020-04-12T03:00:00.000Z</td>\n",
              "      <td>1.0</td>\n",
              "      <td>0.0</td>\n",
              "      <td>Distrito Federal</td>\n",
              "    </tr>\n",
              "    <tr>\n",
              "      <th>1371</th>\n",
              "      <td>2020-04-14T03:00:00.000Z</td>\n",
              "      <td>1.0</td>\n",
              "      <td>0.0</td>\n",
              "      <td>Distrito Federal</td>\n",
              "    </tr>\n",
              "    <tr>\n",
              "      <th>...</th>\n",
              "      <td>...</td>\n",
              "      <td>...</td>\n",
              "      <td>...</td>\n",
              "      <td>...</td>\n",
              "    </tr>\n",
              "    <tr>\n",
              "      <th>549110</th>\n",
              "      <td>2021-09-09T04:00:43.181Z</td>\n",
              "      <td>2.0</td>\n",
              "      <td>0.0</td>\n",
              "      <td>Mato Grosso do Sul</td>\n",
              "    </tr>\n",
              "    <tr>\n",
              "      <th>551284</th>\n",
              "      <td>2021-09-10T04:00:59.655Z</td>\n",
              "      <td>4.0</td>\n",
              "      <td>0.0</td>\n",
              "      <td>Mato Grosso do Sul</td>\n",
              "    </tr>\n",
              "    <tr>\n",
              "      <th>553164</th>\n",
              "      <td>2021-09-11T03:00:04.688Z</td>\n",
              "      <td>3.0</td>\n",
              "      <td>0.0</td>\n",
              "      <td>Mato Grosso do Sul</td>\n",
              "    </tr>\n",
              "    <tr>\n",
              "      <th>553355</th>\n",
              "      <td>2021-09-11T04:00:06.062Z</td>\n",
              "      <td>1.0</td>\n",
              "      <td>1.0</td>\n",
              "      <td>Mato Grosso do Sul</td>\n",
              "    </tr>\n",
              "    <tr>\n",
              "      <th>554513</th>\n",
              "      <td>2021-09-12T03:00:35.887Z</td>\n",
              "      <td>3.0</td>\n",
              "      <td>0.0</td>\n",
              "      <td>Mato Grosso do Sul</td>\n",
              "    </tr>\n",
              "  </tbody>\n",
              "</table>\n",
              "<p>154831 rows × 4 columns</p>\n",
              "</div>\n",
              "      <button class=\"colab-df-convert\" onclick=\"convertToInteractive('df-00da9312-bc10-4204-8046-e45c58c72b2b')\"\n",
              "              title=\"Convert this dataframe to an interactive table.\"\n",
              "              style=\"display:none;\">\n",
              "        \n",
              "  <svg xmlns=\"http://www.w3.org/2000/svg\" height=\"24px\"viewBox=\"0 0 24 24\"\n",
              "       width=\"24px\">\n",
              "    <path d=\"M0 0h24v24H0V0z\" fill=\"none\"/>\n",
              "    <path d=\"M18.56 5.44l.94 2.06.94-2.06 2.06-.94-2.06-.94-.94-2.06-.94 2.06-2.06.94zm-11 1L8.5 8.5l.94-2.06 2.06-.94-2.06-.94L8.5 2.5l-.94 2.06-2.06.94zm10 10l.94 2.06.94-2.06 2.06-.94-2.06-.94-.94-2.06-.94 2.06-2.06.94z\"/><path d=\"M17.41 7.96l-1.37-1.37c-.4-.4-.92-.59-1.43-.59-.52 0-1.04.2-1.43.59L10.3 9.45l-7.72 7.72c-.78.78-.78 2.05 0 2.83L4 21.41c.39.39.9.59 1.41.59.51 0 1.02-.2 1.41-.59l7.78-7.78 2.81-2.81c.8-.78.8-2.07 0-2.86zM5.41 20L4 18.59l7.72-7.72 1.47 1.35L5.41 20z\"/>\n",
              "  </svg>\n",
              "      </button>\n",
              "      \n",
              "  <style>\n",
              "    .colab-df-container {\n",
              "      display:flex;\n",
              "      flex-wrap:wrap;\n",
              "      gap: 12px;\n",
              "    }\n",
              "\n",
              "    .colab-df-convert {\n",
              "      background-color: #E8F0FE;\n",
              "      border: none;\n",
              "      border-radius: 50%;\n",
              "      cursor: pointer;\n",
              "      display: none;\n",
              "      fill: #1967D2;\n",
              "      height: 32px;\n",
              "      padding: 0 0 0 0;\n",
              "      width: 32px;\n",
              "    }\n",
              "\n",
              "    .colab-df-convert:hover {\n",
              "      background-color: #E2EBFA;\n",
              "      box-shadow: 0px 1px 2px rgba(60, 64, 67, 0.3), 0px 1px 3px 1px rgba(60, 64, 67, 0.15);\n",
              "      fill: #174EA6;\n",
              "    }\n",
              "\n",
              "    [theme=dark] .colab-df-convert {\n",
              "      background-color: #3B4455;\n",
              "      fill: #D2E3FC;\n",
              "    }\n",
              "\n",
              "    [theme=dark] .colab-df-convert:hover {\n",
              "      background-color: #434B5C;\n",
              "      box-shadow: 0px 1px 3px 1px rgba(0, 0, 0, 0.15);\n",
              "      filter: drop-shadow(0px 1px 2px rgba(0, 0, 0, 0.3));\n",
              "      fill: #FFFFFF;\n",
              "    }\n",
              "  </style>\n",
              "\n",
              "      <script>\n",
              "        const buttonEl =\n",
              "          document.querySelector('#df-00da9312-bc10-4204-8046-e45c58c72b2b button.colab-df-convert');\n",
              "        buttonEl.style.display =\n",
              "          google.colab.kernel.accessAllowed ? 'block' : 'none';\n",
              "\n",
              "        async function convertToInteractive(key) {\n",
              "          const element = document.querySelector('#df-00da9312-bc10-4204-8046-e45c58c72b2b');\n",
              "          const dataTable =\n",
              "            await google.colab.kernel.invokeFunction('convertToInteractive',\n",
              "                                                     [key], {});\n",
              "          if (!dataTable) return;\n",
              "\n",
              "          const docLinkHtml = 'Like what you see? Visit the ' +\n",
              "            '<a target=\"_blank\" href=https://colab.research.google.com/notebooks/data_table.ipynb>data table notebook</a>'\n",
              "            + ' to learn more about interactive tables.';\n",
              "          element.innerHTML = '';\n",
              "          dataTable['output_type'] = 'display_data';\n",
              "          await google.colab.output.renderOutput(dataTable, element);\n",
              "          const docLink = document.createElement('div');\n",
              "          docLink.innerHTML = docLinkHtml;\n",
              "          element.appendChild(docLink);\n",
              "        }\n",
              "      </script>\n",
              "    </div>\n",
              "  </div>\n",
              "  "
            ]
          },
          "metadata": {},
          "execution_count": 18
        }
      ]
    },
    {
      "cell_type": "code",
      "source": [
        "# Ordenando as vacinas pela data de aplicação , em ordem crescente de data\n",
        "df_CO = df_CO.sort_values(by=['dataNotificacao'])"
      ],
      "metadata": {
        "id": "BxvWc1atYQi9"
      },
      "execution_count": 19,
      "outputs": []
    },
    {
      "cell_type": "code",
      "source": [
        "df_CO"
      ],
      "metadata": {
        "colab": {
          "base_uri": "https://localhost:8080/",
          "height": 424
        },
        "id": "T2SjeW-ZRQ1z",
        "outputId": "6c150f46-f5f0-4022-f660-ad7a4cd91469"
      },
      "execution_count": 20,
      "outputs": [
        {
          "output_type": "execute_result",
          "data": {
            "text/plain": [
              "                 dataNotificacao  ocupacaoConfirmadoUti  \\\n",
              "545924  2020-01-02T03:00:00.000Z                    2.0   \n",
              "546087  2020-01-02T03:00:00.000Z                   14.0   \n",
              "550826  2020-01-05T03:00:00.000Z                   15.0   \n",
              "552380  2020-01-10T04:00:00.000Z                   15.0   \n",
              "550505  2020-01-19T03:00:00.000Z                    3.0   \n",
              "...                          ...                    ...   \n",
              "554793  2021-09-12T03:00:45.766Z                    0.0   \n",
              "554619  2021-09-12T03:00:48.156Z                    0.0   \n",
              "554787  2021-09-12T03:00:56.643Z                    8.0   \n",
              "554668  2021-09-12T04:00:15.855Z                    0.0   \n",
              "554699  2021-09-12T04:00:44.541Z                    7.0   \n",
              "\n",
              "        saidaConfirmadaObitos estadoNotificacao  \n",
              "545924                    0.0  Distrito Federal  \n",
              "546087                    2.0  Distrito Federal  \n",
              "550826                    0.0             Goiás  \n",
              "552380                    2.0       Mato Grosso  \n",
              "550505                    0.0  Distrito Federal  \n",
              "...                       ...               ...  \n",
              "554793                    0.0             Goiás  \n",
              "554619                    0.0  Distrito Federal  \n",
              "554787                    0.0  Distrito Federal  \n",
              "554668                    0.0       Mato Grosso  \n",
              "554699                    0.0       Mato Grosso  \n",
              "\n",
              "[154831 rows x 4 columns]"
            ],
            "text/html": [
              "\n",
              "  <div id=\"df-e0504a43-0e05-4b63-9e64-16bb87952790\">\n",
              "    <div class=\"colab-df-container\">\n",
              "      <div>\n",
              "<style scoped>\n",
              "    .dataframe tbody tr th:only-of-type {\n",
              "        vertical-align: middle;\n",
              "    }\n",
              "\n",
              "    .dataframe tbody tr th {\n",
              "        vertical-align: top;\n",
              "    }\n",
              "\n",
              "    .dataframe thead th {\n",
              "        text-align: right;\n",
              "    }\n",
              "</style>\n",
              "<table border=\"1\" class=\"dataframe\">\n",
              "  <thead>\n",
              "    <tr style=\"text-align: right;\">\n",
              "      <th></th>\n",
              "      <th>dataNotificacao</th>\n",
              "      <th>ocupacaoConfirmadoUti</th>\n",
              "      <th>saidaConfirmadaObitos</th>\n",
              "      <th>estadoNotificacao</th>\n",
              "    </tr>\n",
              "  </thead>\n",
              "  <tbody>\n",
              "    <tr>\n",
              "      <th>545924</th>\n",
              "      <td>2020-01-02T03:00:00.000Z</td>\n",
              "      <td>2.0</td>\n",
              "      <td>0.0</td>\n",
              "      <td>Distrito Federal</td>\n",
              "    </tr>\n",
              "    <tr>\n",
              "      <th>546087</th>\n",
              "      <td>2020-01-02T03:00:00.000Z</td>\n",
              "      <td>14.0</td>\n",
              "      <td>2.0</td>\n",
              "      <td>Distrito Federal</td>\n",
              "    </tr>\n",
              "    <tr>\n",
              "      <th>550826</th>\n",
              "      <td>2020-01-05T03:00:00.000Z</td>\n",
              "      <td>15.0</td>\n",
              "      <td>0.0</td>\n",
              "      <td>Goiás</td>\n",
              "    </tr>\n",
              "    <tr>\n",
              "      <th>552380</th>\n",
              "      <td>2020-01-10T04:00:00.000Z</td>\n",
              "      <td>15.0</td>\n",
              "      <td>2.0</td>\n",
              "      <td>Mato Grosso</td>\n",
              "    </tr>\n",
              "    <tr>\n",
              "      <th>550505</th>\n",
              "      <td>2020-01-19T03:00:00.000Z</td>\n",
              "      <td>3.0</td>\n",
              "      <td>0.0</td>\n",
              "      <td>Distrito Federal</td>\n",
              "    </tr>\n",
              "    <tr>\n",
              "      <th>...</th>\n",
              "      <td>...</td>\n",
              "      <td>...</td>\n",
              "      <td>...</td>\n",
              "      <td>...</td>\n",
              "    </tr>\n",
              "    <tr>\n",
              "      <th>554793</th>\n",
              "      <td>2021-09-12T03:00:45.766Z</td>\n",
              "      <td>0.0</td>\n",
              "      <td>0.0</td>\n",
              "      <td>Goiás</td>\n",
              "    </tr>\n",
              "    <tr>\n",
              "      <th>554619</th>\n",
              "      <td>2021-09-12T03:00:48.156Z</td>\n",
              "      <td>0.0</td>\n",
              "      <td>0.0</td>\n",
              "      <td>Distrito Federal</td>\n",
              "    </tr>\n",
              "    <tr>\n",
              "      <th>554787</th>\n",
              "      <td>2021-09-12T03:00:56.643Z</td>\n",
              "      <td>8.0</td>\n",
              "      <td>0.0</td>\n",
              "      <td>Distrito Federal</td>\n",
              "    </tr>\n",
              "    <tr>\n",
              "      <th>554668</th>\n",
              "      <td>2021-09-12T04:00:15.855Z</td>\n",
              "      <td>0.0</td>\n",
              "      <td>0.0</td>\n",
              "      <td>Mato Grosso</td>\n",
              "    </tr>\n",
              "    <tr>\n",
              "      <th>554699</th>\n",
              "      <td>2021-09-12T04:00:44.541Z</td>\n",
              "      <td>7.0</td>\n",
              "      <td>0.0</td>\n",
              "      <td>Mato Grosso</td>\n",
              "    </tr>\n",
              "  </tbody>\n",
              "</table>\n",
              "<p>154831 rows × 4 columns</p>\n",
              "</div>\n",
              "      <button class=\"colab-df-convert\" onclick=\"convertToInteractive('df-e0504a43-0e05-4b63-9e64-16bb87952790')\"\n",
              "              title=\"Convert this dataframe to an interactive table.\"\n",
              "              style=\"display:none;\">\n",
              "        \n",
              "  <svg xmlns=\"http://www.w3.org/2000/svg\" height=\"24px\"viewBox=\"0 0 24 24\"\n",
              "       width=\"24px\">\n",
              "    <path d=\"M0 0h24v24H0V0z\" fill=\"none\"/>\n",
              "    <path d=\"M18.56 5.44l.94 2.06.94-2.06 2.06-.94-2.06-.94-.94-2.06-.94 2.06-2.06.94zm-11 1L8.5 8.5l.94-2.06 2.06-.94-2.06-.94L8.5 2.5l-.94 2.06-2.06.94zm10 10l.94 2.06.94-2.06 2.06-.94-2.06-.94-.94-2.06-.94 2.06-2.06.94z\"/><path d=\"M17.41 7.96l-1.37-1.37c-.4-.4-.92-.59-1.43-.59-.52 0-1.04.2-1.43.59L10.3 9.45l-7.72 7.72c-.78.78-.78 2.05 0 2.83L4 21.41c.39.39.9.59 1.41.59.51 0 1.02-.2 1.41-.59l7.78-7.78 2.81-2.81c.8-.78.8-2.07 0-2.86zM5.41 20L4 18.59l7.72-7.72 1.47 1.35L5.41 20z\"/>\n",
              "  </svg>\n",
              "      </button>\n",
              "      \n",
              "  <style>\n",
              "    .colab-df-container {\n",
              "      display:flex;\n",
              "      flex-wrap:wrap;\n",
              "      gap: 12px;\n",
              "    }\n",
              "\n",
              "    .colab-df-convert {\n",
              "      background-color: #E8F0FE;\n",
              "      border: none;\n",
              "      border-radius: 50%;\n",
              "      cursor: pointer;\n",
              "      display: none;\n",
              "      fill: #1967D2;\n",
              "      height: 32px;\n",
              "      padding: 0 0 0 0;\n",
              "      width: 32px;\n",
              "    }\n",
              "\n",
              "    .colab-df-convert:hover {\n",
              "      background-color: #E2EBFA;\n",
              "      box-shadow: 0px 1px 2px rgba(60, 64, 67, 0.3), 0px 1px 3px 1px rgba(60, 64, 67, 0.15);\n",
              "      fill: #174EA6;\n",
              "    }\n",
              "\n",
              "    [theme=dark] .colab-df-convert {\n",
              "      background-color: #3B4455;\n",
              "      fill: #D2E3FC;\n",
              "    }\n",
              "\n",
              "    [theme=dark] .colab-df-convert:hover {\n",
              "      background-color: #434B5C;\n",
              "      box-shadow: 0px 1px 3px 1px rgba(0, 0, 0, 0.15);\n",
              "      filter: drop-shadow(0px 1px 2px rgba(0, 0, 0, 0.3));\n",
              "      fill: #FFFFFF;\n",
              "    }\n",
              "  </style>\n",
              "\n",
              "      <script>\n",
              "        const buttonEl =\n",
              "          document.querySelector('#df-e0504a43-0e05-4b63-9e64-16bb87952790 button.colab-df-convert');\n",
              "        buttonEl.style.display =\n",
              "          google.colab.kernel.accessAllowed ? 'block' : 'none';\n",
              "\n",
              "        async function convertToInteractive(key) {\n",
              "          const element = document.querySelector('#df-e0504a43-0e05-4b63-9e64-16bb87952790');\n",
              "          const dataTable =\n",
              "            await google.colab.kernel.invokeFunction('convertToInteractive',\n",
              "                                                     [key], {});\n",
              "          if (!dataTable) return;\n",
              "\n",
              "          const docLinkHtml = 'Like what you see? Visit the ' +\n",
              "            '<a target=\"_blank\" href=https://colab.research.google.com/notebooks/data_table.ipynb>data table notebook</a>'\n",
              "            + ' to learn more about interactive tables.';\n",
              "          element.innerHTML = '';\n",
              "          dataTable['output_type'] = 'display_data';\n",
              "          await google.colab.output.renderOutput(dataTable, element);\n",
              "          const docLink = document.createElement('div');\n",
              "          docLink.innerHTML = docLinkHtml;\n",
              "          element.appendChild(docLink);\n",
              "        }\n",
              "      </script>\n",
              "    </div>\n",
              "  </div>\n",
              "  "
            ]
          },
          "metadata": {},
          "execution_count": 20
        }
      ]
    },
    {
      "cell_type": "markdown",
      "source": [
        "# **Separar os DataFrames por mês**"
      ],
      "metadata": {
        "id": "x2GH8ygC091R"
      }
    },
    {
      "cell_type": "markdown",
      "source": [
        "**Janeiro**"
      ],
      "metadata": {
        "id": "hzA8sf0ZFqNm"
      }
    },
    {
      "cell_type": "code",
      "source": [
        "df_20_mes = df_CO.query('dataNotificacao.str.startswith(\"2020-01\").values')\n",
        "df_21_mes = df_CO.query('dataNotificacao.str.startswith(\"2021-01\").values')\n",
        "df_22_mes = df_CO.query('dataNotificacao.str.startswith(\"2022-01\").values')\n",
        "df_mes1 = pd.concat([df_20_mes,df_21_mes,df_22_mes])"
      ],
      "metadata": {
        "id": "r_oYiKpSCeMH"
      },
      "execution_count": 21,
      "outputs": []
    },
    {
      "cell_type": "markdown",
      "source": [
        "**Fevereiro**"
      ],
      "metadata": {
        "id": "J4DMQEfbGWgR"
      }
    },
    {
      "cell_type": "code",
      "source": [
        "df_20_mes = df_CO.query('dataNotificacao.str.startswith(\"2020-02\").values')\n",
        "df_21_mes = df_CO.query('dataNotificacao.str.startswith(\"2021-02\").values')\n",
        "df_22_mes = df_CO.query('dataNotificacao.str.startswith(\"2022-02\").values')\n",
        "df_mes2 = pd.concat([df_20_mes,df_21_mes,df_22_mes])"
      ],
      "metadata": {
        "id": "JN1SATmEGAjN"
      },
      "execution_count": 22,
      "outputs": []
    },
    {
      "cell_type": "markdown",
      "source": [
        "**Março**"
      ],
      "metadata": {
        "id": "qWJYMN6DGYcb"
      }
    },
    {
      "cell_type": "code",
      "source": [
        "df_20_mes = df_CO.query('dataNotificacao.str.startswith(\"2020-03\").values')\n",
        "df_21_mes = df_CO.query('dataNotificacao.str.startswith(\"2021-03\").values')\n",
        "df_22_mes = df_CO.query('dataNotificacao.str.startswith(\"2022-03\").values')\n",
        "df_mes3 = pd.concat([df_20_mes,df_21_mes,df_22_mes])"
      ],
      "metadata": {
        "id": "1VkSphh5GCtq"
      },
      "execution_count": 23,
      "outputs": []
    },
    {
      "cell_type": "markdown",
      "source": [
        "**Abril**"
      ],
      "metadata": {
        "id": "sFeRoLa5GaeK"
      }
    },
    {
      "cell_type": "code",
      "source": [
        "df_20_mes = df_CO.query('dataNotificacao.str.startswith(\"2020-04\").values')\n",
        "df_21_mes = df_CO.query('dataNotificacao.str.startswith(\"2021-04\").values')\n",
        "df_22_mes = df_CO.query('dataNotificacao.str.startswith(\"2022-04\").values')\n",
        "df_mes4 = pd.concat([df_20_mes,df_21_mes,df_22_mes])"
      ],
      "metadata": {
        "id": "946YEw0jZDW_"
      },
      "execution_count": 24,
      "outputs": []
    },
    {
      "cell_type": "markdown",
      "source": [
        "**Maio**"
      ],
      "metadata": {
        "id": "m2KbJJZXGcZT"
      }
    },
    {
      "cell_type": "code",
      "source": [
        "df_20_mes = df_CO.query('dataNotificacao.str.startswith(\"2020-05\").values')\n",
        "df_21_mes = df_CO.query('dataNotificacao.str.startswith(\"2021-05\").values')\n",
        "df_22_mes = df_CO.query('dataNotificacao.str.startswith(\"2022-05\").values')\n",
        "df_mes5 = pd.concat([df_20_mes,df_21_mes,df_22_mes])"
      ],
      "metadata": {
        "id": "GuIr2b-UZIUD"
      },
      "execution_count": 25,
      "outputs": []
    },
    {
      "cell_type": "markdown",
      "source": [
        "**Junho**"
      ],
      "metadata": {
        "id": "jMMqt5IpGg9W"
      }
    },
    {
      "cell_type": "code",
      "source": [
        "df_20_mes = df_CO.query('dataNotificacao.str.startswith(\"2020-06\").values')\n",
        "df_21_mes = df_CO.query('dataNotificacao.str.startswith(\"2021-06\").values')\n",
        "df_22_mes = df_CO.query('dataNotificacao.str.startswith(\"2022-06\").values')\n",
        "df_mes6 = pd.concat([df_20_mes,df_21_mes,df_22_mes])"
      ],
      "metadata": {
        "id": "diWH0bJiBGEw"
      },
      "execution_count": 26,
      "outputs": []
    },
    {
      "cell_type": "markdown",
      "source": [
        "**Julho**"
      ],
      "metadata": {
        "id": "lN2GbchPI6u0"
      }
    },
    {
      "cell_type": "code",
      "source": [
        "df_20_mes = df_CO.query('dataNotificacao.str.startswith(\"2020-07\").values')\n",
        "df_21_mes = df_CO.query('dataNotificacao.str.startswith(\"2021-07\").values')\n",
        "df_22_mes = df_CO.query('dataNotificacao.str.startswith(\"2022-07\").values')\n",
        "df_mes7 = pd.concat([df_20_mes,df_21_mes,df_22_mes])"
      ],
      "metadata": {
        "id": "XKCjxQY4I2x-"
      },
      "execution_count": 27,
      "outputs": []
    },
    {
      "cell_type": "markdown",
      "source": [
        "**Agosto**"
      ],
      "metadata": {
        "id": "hXYz5UR3I9r_"
      }
    },
    {
      "cell_type": "code",
      "source": [
        "df_20_mes = df_CO.query('dataNotificacao.str.startswith(\"2020-08\").values')\n",
        "df_21_mes = df_CO.query('dataNotificacao.str.startswith(\"2021-08\").values')\n",
        "df_22_mes = df_CO.query('dataNotificacao.str.startswith(\"2022-08\").values')\n",
        "df_mes8 = pd.concat([df_20_mes,df_21_mes,df_22_mes])"
      ],
      "metadata": {
        "id": "aJnvU2zvI3_q"
      },
      "execution_count": 28,
      "outputs": []
    },
    {
      "cell_type": "markdown",
      "source": [
        "**Setembro**"
      ],
      "metadata": {
        "id": "XgtgTjAgI_Mv"
      }
    },
    {
      "cell_type": "code",
      "source": [
        "df_20_mes = df_CO.query('dataNotificacao.str.startswith(\"2020-09\").values')\n",
        "df_21_mes = df_CO.query('dataNotificacao.str.startswith(\"2021-09\").values')\n",
        "df_22_mes = df_CO.query('dataNotificacao.str.startswith(\"2022-09\").values')\n",
        "df_mes9 = pd.concat([df_20_mes,df_21_mes,df_22_mes])"
      ],
      "metadata": {
        "id": "yqKmx1OaI4X6"
      },
      "execution_count": 29,
      "outputs": []
    },
    {
      "cell_type": "markdown",
      "source": [
        "**Outubro**"
      ],
      "metadata": {
        "id": "DvvOg7ayJAhM"
      }
    },
    {
      "cell_type": "code",
      "source": [
        "df_20_mes = df_CO.query('dataNotificacao.str.startswith(\"2020-10\").values')\n",
        "df_21_mes = df_CO.query('dataNotificacao.str.startswith(\"2021-10\").values')\n",
        "df_22_mes = df_CO.query('dataNotificacao.str.startswith(\"2022-10\").values')\n",
        "df_mes10 = pd.concat([df_20_mes,df_21_mes,df_22_mes])"
      ],
      "metadata": {
        "id": "qiEK5xjRI4oU"
      },
      "execution_count": 30,
      "outputs": []
    },
    {
      "cell_type": "markdown",
      "source": [
        "**Novembro**"
      ],
      "metadata": {
        "id": "Sga80VHrJCsu"
      }
    },
    {
      "cell_type": "code",
      "source": [
        "df_20_mes = df_CO.query('dataNotificacao.str.startswith(\"2020-11\").values')\n",
        "df_21_mes = df_CO.query('dataNotificacao.str.startswith(\"2021-11\").values')\n",
        "df_22_mes = df_CO.query('dataNotificacao.str.startswith(\"2022-11\").values')\n",
        "df_mes11 = pd.concat([df_20_mes,df_21_mes,df_22_mes])"
      ],
      "metadata": {
        "id": "D4OAP6KpI5FV"
      },
      "execution_count": 31,
      "outputs": []
    },
    {
      "cell_type": "markdown",
      "source": [
        "**Dezembro**"
      ],
      "metadata": {
        "id": "1xnKjc4JJEG-"
      }
    },
    {
      "cell_type": "code",
      "source": [
        "df_20_mes = df_CO.query('dataNotificacao.str.startswith(\"2020-12\").values')\n",
        "df_21_mes = df_CO.query('dataNotificacao.str.startswith(\"2021-12\").values')\n",
        "df_22_mes = df_CO.query('dataNotificacao.str.startswith(\"2022-12\").values')\n",
        "df_mes12 = pd.concat([df_20_mes,df_21_mes,df_22_mes])"
      ],
      "metadata": {
        "id": "qGU20FW5I5Yc"
      },
      "execution_count": 32,
      "outputs": []
    },
    {
      "cell_type": "markdown",
      "source": [
        "# **Separar por estado**"
      ],
      "metadata": {
        "id": "HxRZZl1mJk6I"
      }
    },
    {
      "cell_type": "markdown",
      "source": [
        "**Goiás**"
      ],
      "metadata": {
        "id": "SpXhN-FuKr2M"
      }
    },
    {
      "cell_type": "code",
      "source": [
        "df_GO_mes1 = df_mes1.query('estadoNotificacao.str.startswith(\"Goiás\").values')\n",
        "df_GO_mes2 = df_mes2.query('estadoNotificacao.str.startswith(\"Goiás\").values')\n",
        "df_GO_mes3 = df_mes3.query('estadoNotificacao.str.startswith(\"Goiás\").values')\n",
        "df_GO_mes4 = df_mes4.query('estadoNotificacao.str.startswith(\"Goiás\").values')\n",
        "df_GO_mes5 = df_mes5.query('estadoNotificacao.str.startswith(\"Goiás\").values')\n",
        "df_GO_mes6 = df_mes6.query('estadoNotificacao.str.startswith(\"Goiás\").values')"
      ],
      "metadata": {
        "id": "bDSU3-T3JjL7"
      },
      "execution_count": 33,
      "outputs": []
    },
    {
      "cell_type": "code",
      "source": [
        "df_GO_mes7 = df_mes7.query('estadoNotificacao.str.startswith(\"Goiás\").values')\n",
        "df_GO_mes8 = df_mes8.query('estadoNotificacao.str.startswith(\"Goiás\").values')\n",
        "df_GO_mes9 = df_mes9.query('estadoNotificacao.str.startswith(\"Goiás\").values')\n",
        "df_GO_mes10 = df_mes10.query('estadoNotificacao.str.startswith(\"Goiás\").values')\n",
        "df_GO_mes11 = df_mes11.query('estadoNotificacao.str.startswith(\"Goiás\").values')\n",
        "df_GO_mes12 = df_mes12.query('estadoNotificacao.str.startswith(\"Goiás\").values')"
      ],
      "metadata": {
        "id": "sLmTAoQsKUtM"
      },
      "execution_count": 34,
      "outputs": []
    },
    {
      "cell_type": "markdown",
      "source": [
        "**Mato Grosso**"
      ],
      "metadata": {
        "id": "JVJa0gCyKvij"
      }
    },
    {
      "cell_type": "code",
      "source": [
        "#MASK = (UFG_CONCEITO['Ano'] >= 2004) & (UFG_CONCEITO['Ano'] <= 2006)\n",
        "#UFG_Conceito_04_06 = UFG_CONCEITO[MASK]"
      ],
      "metadata": {
        "id": "wvO1QTPqMJLX"
      },
      "execution_count": 35,
      "outputs": []
    },
    {
      "cell_type": "code",
      "source": [
        "df_MT_mes1 = df_mes1.query('estadoNotificacao.str.startswith(\"Mato Grosso\").values')\n",
        "df_MT_mes2 = df_mes2.query('estadoNotificacao.str.startswith(\"Mato Grosso\").values')\n",
        "df_MT_mes3 = df_mes3.query('estadoNotificacao.str.startswith(\"Mato Grosso\").values')\n",
        "df_MT_mes4 = df_mes4.query('estadoNotificacao.str.startswith(\"Mato Grosso\").values')\n",
        "df_MT_mes5 = df_mes5.query('estadoNotificacao.str.startswith(\"Mato Grosso\").values')\n",
        "df_MT_mes6 = df_mes6.query('estadoNotificacao.str.startswith(\"Mato Grosso\").values')"
      ],
      "metadata": {
        "id": "jb5vvTFdKvik"
      },
      "execution_count": 36,
      "outputs": []
    },
    {
      "cell_type": "code",
      "source": [
        "df_MT_mes7 = df_mes7.query('estadoNotificacao.str.startswith(\"Mato Grosso\").values')\n",
        "df_MT_mes8 = df_mes8.query('estadoNotificacao.str.startswith(\"Mato Grosso\").values')\n",
        "df_MT_mes9 = df_mes9.query('estadoNotificacao.str.startswith(\"Mato Grosso\").values')\n",
        "df_MT_mes10 = df_mes10.query('estadoNotificacao.str.startswith(\"Mato Grosso\").values')\n",
        "df_MT_mes11 = df_mes11.query('estadoNotificacao.str.startswith(\"Mato Grosso\").values')\n",
        "df_MT_mes12 = df_mes12.query('estadoNotificacao.str.startswith(\"Mato Grosso\").values')"
      ],
      "metadata": {
        "id": "ILf1bWJgKvil"
      },
      "execution_count": 37,
      "outputs": []
    },
    {
      "cell_type": "markdown",
      "source": [
        "**Mato Grosso do Sul**"
      ],
      "metadata": {
        "id": "ezoYVNKfKv9U"
      }
    },
    {
      "cell_type": "code",
      "source": [
        "df_MS_mes1 = df_mes1.query('estadoNotificacao.str.startswith(\"Mato Grosso do Sul\").values')\n",
        "df_MS_mes2 = df_mes2.query('estadoNotificacao.str.startswith(\"Mato Grosso do Sul\").values')\n",
        "df_MS_mes3 = df_mes3.query('estadoNotificacao.str.startswith(\"Mato Grosso do Sul\").values')\n",
        "df_MS_mes4 = df_mes4.query('estadoNotificacao.str.startswith(\"Mato Grosso do Sul\").values')\n",
        "df_MS_mes5 = df_mes5.query('estadoNotificacao.str.startswith(\"Mato Grosso do Sul\").values')\n",
        "df_MS_mes6 = df_mes6.query('estadoNotificacao.str.startswith(\"Mato Grosso do Sul\").values')"
      ],
      "metadata": {
        "id": "eaGH5MZnKv9V"
      },
      "execution_count": 38,
      "outputs": []
    },
    {
      "cell_type": "code",
      "source": [
        "df_MS_mes7 = df_mes7.query('estadoNotificacao.str.startswith(\"Mato Grosso do Sul\").values')\n",
        "df_MS_mes8 = df_mes8.query('estadoNotificacao.str.startswith(\"Mato Grosso do Sul\").values')\n",
        "df_MS_mes9 = df_mes9.query('estadoNotificacao.str.startswith(\"Mato Grosso do Sul\").values')\n",
        "df_MS_mes10 = df_mes10.query('estadoNotificacao.str.startswith(\"Mato Grosso do Sul\").values')\n",
        "df_MS_mes11 = df_mes11.query('estadoNotificacao.str.startswith(\"Mato Grosso do Sul\").values')\n",
        "df_MS_mes12 = df_mes12.query('estadoNotificacao.str.startswith(\"Mato Grosso do Sul\").values')"
      ],
      "metadata": {
        "id": "7RZ-yYJqKv9W"
      },
      "execution_count": 39,
      "outputs": []
    },
    {
      "cell_type": "markdown",
      "source": [
        "**Distrito Federal**"
      ],
      "metadata": {
        "id": "V4VGwUejKwZc"
      }
    },
    {
      "cell_type": "code",
      "source": [
        "df_DF_mes1 = df_mes1.query('estadoNotificacao.str.startswith(\"Distrito Federal\").values')\n",
        "df_DF_mes2 = df_mes2.query('estadoNotificacao.str.startswith(\"Distrito Federal\").values')\n",
        "df_DF_mes3 = df_mes3.query('estadoNotificacao.str.startswith(\"Distrito Federal\").values')\n",
        "df_DF_mes4 = df_mes4.query('estadoNotificacao.str.startswith(\"Distrito Federal\").values')\n",
        "df_DF_mes5 = df_mes5.query('estadoNotificacao.str.startswith(\"Distrito Federal\").values')\n",
        "df_DF_mes6 = df_mes6.query('estadoNotificacao.str.startswith(\"Distrito Federal\").values')"
      ],
      "metadata": {
        "id": "zPBBxYRiKwZd"
      },
      "execution_count": 40,
      "outputs": []
    },
    {
      "cell_type": "code",
      "source": [
        "df_DF_mes7 = df_mes7.query('estadoNotificacao.str.startswith(\"Distrito Federal\").values')\n",
        "df_DF_mes8 = df_mes8.query('estadoNotificacao.str.startswith(\"Distrito Federal\").values')\n",
        "df_DF_mes9 = df_mes9.query('estadoNotificacao.str.startswith(\"Distrito Federal\").values')\n",
        "df_DF_mes10 = df_mes10.query('estadoNotificacao.str.startswith(\"Distrito Federal\").values')\n",
        "df_DF_mes11 = df_mes11.query('estadoNotificacao.str.startswith(\"Distrito Federal\").values')\n",
        "df_DF_mes12 = df_mes12.query('estadoNotificacao.str.startswith(\"Distrito Federal\").values')"
      ],
      "metadata": {
        "id": "gKBjOdfhKwZe"
      },
      "execution_count": 41,
      "outputs": []
    }
  ]
}